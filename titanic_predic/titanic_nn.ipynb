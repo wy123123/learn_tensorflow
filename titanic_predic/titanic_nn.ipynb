{
 "cells": [
  {
   "cell_type": "code",
   "execution_count": 310,
   "metadata": {},
   "outputs": [
    {
     "data": {
      "text/plain": [
       "_StoreAction(option_strings=['--train_steps'], dest='train_steps', nargs=None, const=None, default=10000, type=<class 'int'>, choices=None, help='number of training steps', metavar=None)"
      ]
     },
     "execution_count": 310,
     "metadata": {},
     "output_type": "execute_result"
    }
   ],
   "source": [
    "import pandas as pd\n",
    "import sys\n",
    "import tensorflow as tf\n",
    "import tqdm\n",
    "import numpy as np\n",
    "from sklearn.model_selection import train_test_split\n",
    "import argparse\n",
    "parser = argparse.ArgumentParser()\n",
    "parser.add_argument('--batch_size', default=100, type=int, help='batch size')\n",
    "parser.add_argument('--train_steps', default=10000, type=int,\n",
    "                    help='number of training steps')"
   ]
  },
  {
   "cell_type": "code",
   "execution_count": 311,
   "metadata": {},
   "outputs": [],
   "source": [
    "train_data = pd.read_csv(\"./train.csv\")\n",
    "validate = pd.read_csv('./test.csv')"
   ]
  },
  {
   "cell_type": "code",
   "execution_count": 313,
   "metadata": {},
   "outputs": [],
   "source": [
    "train_data.fillna(0, inplace=True)"
   ]
  },
  {
   "cell_type": "code",
   "execution_count": 314,
   "metadata": {},
   "outputs": [],
   "source": [
    "def remove_outliers(df=None,col_name=None):\n",
    "    std =  df[col_name].std()\n",
    "    m = df[col_name].mean()\n",
    "    df['is_outlier'] = df[col_name].apply(lambda x : True if x < m - 2*std or x > m + 2*std else False)\n",
    "    tmp_df = df[df['is_outlier']==False]\n",
    "    return tmp_df.drop('is_outlier',axis=1)"
   ]
  },
  {
   "cell_type": "code",
   "execution_count": 315,
   "metadata": {},
   "outputs": [
    {
     "name": "stderr",
     "output_type": "stream",
     "text": [
      "/home/ubuntu/jupyter/remote_jupyter/lib/python3.4/site-packages/ipykernel_launcher.py:4: SettingWithCopyWarning: \n",
      "A value is trying to be set on a copy of a slice from a DataFrame\n",
      "\n",
      "See the caveats in the documentation: http://pandas.pydata.org/pandas-docs/stable/indexing.html#indexing-view-versus-copy\n",
      "  after removing the cwd from sys.path.\n",
      "/home/ubuntu/jupyter/remote_jupyter/lib/python3.4/site-packages/ipykernel_launcher.py:6: SettingWithCopyWarning: \n",
      "A value is trying to be set on a copy of a slice from a DataFrame\n",
      "\n",
      "See the caveats in the documentation: http://pandas.pydata.org/pandas-docs/stable/indexing.html#indexing-view-versus-copy\n",
      "  \n"
     ]
    }
   ],
   "source": [
    "for idx, value in enumerate(train_data.Age):\n",
    "    if value ==0:\n",
    "        if train_data['Sex'][idx] == 'male':\n",
    "            train_data['Age'][idx] = 30\n",
    "        else:\n",
    "            train_data['Age'][idx] = 28\n",
    "for idx, value in enumerate(validate_data.Age):\n",
    "    if value ==0:\n",
    "        if validate_data['Sex'][idx] == 'male':\n",
    "            validate_data['Age'][idx] = 30\n",
    "        else:\n",
    "            validate_data['Age'][idx] = 28"
   ]
  },
  {
   "cell_type": "code",
   "execution_count": 423,
   "metadata": {},
   "outputs": [
    {
     "data": {
      "text/plain": [
       "p_class\n",
       "Second_class    20.662183\n",
       "first_class     84.154687\n",
       "third_class     13.675550\n",
       "Name: Fare, dtype: float64"
      ]
     },
     "execution_count": 423,
     "metadata": {},
     "output_type": "execute_result"
    }
   ],
   "source": [
    "train_data.Fare.groupby(train_data.p_class).mean()"
   ]
  },
  {
   "cell_type": "code",
   "execution_count": 473,
   "metadata": {},
   "outputs": [],
   "source": [
    "def estimate_fare(df):\n",
    "    for idx,value in enumerate(df.p_class):\n",
    "        if df['Fare'][idx]==0:\n",
    "            if value == 'first_class':\n",
    "                df['Fare'][idx] = 84.1\n",
    "            elif value  == 'Second_class':\n",
    "                df['Fare'][idx] = 20.66\n",
    "            elif value  == 'third_class':\n",
    "                df['Fare'][idx] = 13.67\n",
    "    return df\n",
    "train_data = estimate_fare(train_data)"
   ]
  },
  {
   "cell_type": "code",
   "execution_count": 474,
   "metadata": {},
   "outputs": [],
   "source": [
    "def marriage_status(x):\n",
    "    return str(str(x.split(',')[1]).split('.')[0]).strip().replace(\" \",'_')"
   ]
  },
  {
   "cell_type": "code",
   "execution_count": 475,
   "metadata": {},
   "outputs": [],
   "source": [
    "def normalize_series(series,max_x,min_x):\n",
    "    return series.apply(lambda x: (x-min_x)/(max_x-min_x))"
   ]
  },
  {
   "cell_type": "code",
   "execution_count": 476,
   "metadata": {},
   "outputs": [],
   "source": [
    "# find if user used multiple cabinet \n",
    "def used_multiple_cabins(s):\n",
    "    s = str(s).split(' ')\n",
    "    if len(s) >1:\n",
    "        return 'Multiple_cabin'\n",
    "    else:\n",
    "        return 'One_Cabin'"
   ]
  },
  {
   "cell_type": "code",
   "execution_count": 477,
   "metadata": {},
   "outputs": [],
   "source": [
    "#find cabin class\n",
    "def cabin_class(s):\n",
    "    s = str(s).split(' ')[0]\n",
    "    if s == '0':\n",
    "        return 'cabin_class_Unknown'\n",
    "    else:\n",
    "        return 'cabin_class_{}'.format(s[0])"
   ]
  },
  {
   "cell_type": "code",
   "execution_count": 994,
   "metadata": {},
   "outputs": [],
   "source": [
    "def data_cleaning(df):\n",
    "    #df = remove_outliers(df,'Fare')\n",
    "    embarked_dummy = pd.get_dummies(df['Embarked'])\n",
    "    sex_dummy = pd.get_dummies(df['Sex'])\n",
    "    df['p_class']=df.Pclass.apply(lambda x : map_pclass(x))\n",
    "    pclass_dummy = pd.get_dummies(df.p_class)\n",
    "    df['n_fare'] = normalize_series(df.Fare,df.Fare.max(),df.Fare.min())\n",
    "    #log fare value\n",
    "    #df['n_fare'] = df.n_fare.apply(lambda x : np.log2(x))\n",
    "    df['m_s'] = df.Name.apply(lambda x: marriage_status(x))\n",
    "    m_s_dummy = pd.get_dummies(df.m_s)\n",
    "    df['multiple_cabin'] = df.Cabin.apply(lambda x : used_multiple_cabins(x))\n",
    "    multiple_cabin_dummy = pd.get_dummies(df.multiple_cabin)\n",
    "    df['cabin_code'] = df.Cabin.apply(lambda x : cabin_class(x))\n",
    "    cabin_code_dummy = pd.get_dummies(df.cabin_code)\n",
    "    df  = pd.concat([df\n",
    "                     ,embarked_dummy\n",
    "                     ,sex_dummy\n",
    "                     ,pclass_dummy\n",
    "                     ,m_s_dummy\n",
    "                     ,cabin_code_dummy\n",
    "                     ,multiple_cabin_dummy\n",
    "                    ], axis=1)\n",
    " \n",
    "    df = df.drop([\n",
    "                  'Name',\n",
    "                  'Ticket',\n",
    "                  'Cabin',\n",
    "                  'Pclass',\n",
    "                  'p_class',\n",
    "                  'Sex',\n",
    "                  'Embarked',\n",
    "                  'Fare',\n",
    "                  'm_s',\n",
    "                  'multiple_cabin',\n",
    "                  'cabin_code'\n",
    "                 ],axis=1)\n",
    "    return df"
   ]
  },
  {
   "cell_type": "code",
   "execution_count": 995,
   "metadata": {},
   "outputs": [],
   "source": [
    "def map_pclass(x):\n",
    "    if x == 1:\n",
    "        return 'first_class'\n",
    "    elif x == 2:\n",
    "        return 'Second_class'\n",
    "    elif x == 3:\n",
    "        return 'third_class'\n",
    "    else:\n",
    "        return 'Unknown'"
   ]
  },
  {
   "cell_type": "code",
   "execution_count": 673,
   "metadata": {},
   "outputs": [],
   "source": [
    "tmp_train_data = data_cleaning(train_data)"
   ]
  },
  {
   "cell_type": "code",
   "execution_count": 674,
   "metadata": {},
   "outputs": [],
   "source": [
    "tmp_train_data = tmp_train_data.drop(0,axis=1)"
   ]
  },
  {
   "cell_type": "code",
   "execution_count": 671,
   "metadata": {},
   "outputs": [],
   "source": [
    "tmp_train_data['Dona'] = 0"
   ]
  },
  {
   "cell_type": "code",
   "execution_count": 675,
   "metadata": {},
   "outputs": [],
   "source": [
    "train, test = train_test_split(tmp_train_data, test_size=0.2)"
   ]
  },
  {
   "cell_type": "code",
   "execution_count": 996,
   "metadata": {},
   "outputs": [],
   "source": [
    "tmp_validate_data = data_cleaning(validate_data)"
   ]
  },
  {
   "cell_type": "code",
   "execution_count": 676,
   "metadata": {},
   "outputs": [],
   "source": [
    "test_x, test_y = test, test.pop('Survived')"
   ]
  },
  {
   "cell_type": "code",
   "execution_count": 677,
   "metadata": {},
   "outputs": [],
   "source": [
    "train_x, train_y = train, train.pop('Survived')"
   ]
  },
  {
   "cell_type": "code",
   "execution_count": 678,
   "metadata": {},
   "outputs": [],
   "source": [
    "def train_input_fn(features, labels, batch_size):\n",
    "    \"\"\"An input function for training\"\"\"\n",
    "    # Convert the inputs to a Dataset.\n",
    "    dataset = tf.data.Dataset.from_tensor_slices((dict(features), labels))\n",
    "    return dataset.shuffle(1000).repeat().batch(batch_size)"
   ]
  },
  {
   "cell_type": "code",
   "execution_count": 679,
   "metadata": {},
   "outputs": [],
   "source": [
    "def eval_input_fn(features, labels, batch_size):\n",
    "    \"\"\"An input function for evaluation or prediction\"\"\"\n",
    "    features=dict(features)\n",
    "    if labels is None:\n",
    "        # No labels, use only features.\n",
    "        inputs = features\n",
    "    else:\n",
    "        inputs = (features, labels)\n",
    "\n",
    "    # Convert the inputs to a Dataset.\n",
    "    dataset = tf.data.Dataset.from_tensor_slices(inputs)\n",
    "\n",
    "    # Batch the examples\n",
    "    assert batch_size is not None, \"batch_size must not be None\"\n",
    "    dataset = dataset.batch(batch_size)\n",
    "\n",
    "    # Return the dataset.\n",
    "    return dataset"
   ]
  },
  {
   "cell_type": "code",
   "execution_count": 680,
   "metadata": {},
   "outputs": [],
   "source": [
    "my_feature_columns = []\n",
    "for key in train_x.keys():\n",
    "    my_feature_columns.append(tf.feature_column.numeric_column(key=key))"
   ]
  },
  {
   "cell_type": "code",
   "execution_count": 681,
   "metadata": {},
   "outputs": [
    {
     "data": {
      "text/plain": [
       "[_NumericColumn(key='Age', shape=(1,), default_value=None, dtype=tf.float32, normalizer_fn=None),\n",
       " _NumericColumn(key='SibSp', shape=(1,), default_value=None, dtype=tf.float32, normalizer_fn=None),\n",
       " _NumericColumn(key='Parch', shape=(1,), default_value=None, dtype=tf.float32, normalizer_fn=None),\n",
       " _NumericColumn(key='n_fare', shape=(1,), default_value=None, dtype=tf.float32, normalizer_fn=None),\n",
       " _NumericColumn(key='C', shape=(1,), default_value=None, dtype=tf.float32, normalizer_fn=None),\n",
       " _NumericColumn(key='Q', shape=(1,), default_value=None, dtype=tf.float32, normalizer_fn=None),\n",
       " _NumericColumn(key='S', shape=(1,), default_value=None, dtype=tf.float32, normalizer_fn=None),\n",
       " _NumericColumn(key='female', shape=(1,), default_value=None, dtype=tf.float32, normalizer_fn=None),\n",
       " _NumericColumn(key='male', shape=(1,), default_value=None, dtype=tf.float32, normalizer_fn=None),\n",
       " _NumericColumn(key='Second_class', shape=(1,), default_value=None, dtype=tf.float32, normalizer_fn=None),\n",
       " _NumericColumn(key='first_class', shape=(1,), default_value=None, dtype=tf.float32, normalizer_fn=None),\n",
       " _NumericColumn(key='third_class', shape=(1,), default_value=None, dtype=tf.float32, normalizer_fn=None),\n",
       " _NumericColumn(key='Capt', shape=(1,), default_value=None, dtype=tf.float32, normalizer_fn=None),\n",
       " _NumericColumn(key='Col', shape=(1,), default_value=None, dtype=tf.float32, normalizer_fn=None),\n",
       " _NumericColumn(key='Don', shape=(1,), default_value=None, dtype=tf.float32, normalizer_fn=None),\n",
       " _NumericColumn(key='Dr', shape=(1,), default_value=None, dtype=tf.float32, normalizer_fn=None),\n",
       " _NumericColumn(key='Jonkheer', shape=(1,), default_value=None, dtype=tf.float32, normalizer_fn=None),\n",
       " _NumericColumn(key='Lady', shape=(1,), default_value=None, dtype=tf.float32, normalizer_fn=None),\n",
       " _NumericColumn(key='Major', shape=(1,), default_value=None, dtype=tf.float32, normalizer_fn=None),\n",
       " _NumericColumn(key='Master', shape=(1,), default_value=None, dtype=tf.float32, normalizer_fn=None),\n",
       " _NumericColumn(key='Miss', shape=(1,), default_value=None, dtype=tf.float32, normalizer_fn=None),\n",
       " _NumericColumn(key='Mlle', shape=(1,), default_value=None, dtype=tf.float32, normalizer_fn=None),\n",
       " _NumericColumn(key='Mme', shape=(1,), default_value=None, dtype=tf.float32, normalizer_fn=None),\n",
       " _NumericColumn(key='Mr', shape=(1,), default_value=None, dtype=tf.float32, normalizer_fn=None),\n",
       " _NumericColumn(key='Mrs', shape=(1,), default_value=None, dtype=tf.float32, normalizer_fn=None),\n",
       " _NumericColumn(key='Ms', shape=(1,), default_value=None, dtype=tf.float32, normalizer_fn=None),\n",
       " _NumericColumn(key='Rev', shape=(1,), default_value=None, dtype=tf.float32, normalizer_fn=None),\n",
       " _NumericColumn(key='Sir', shape=(1,), default_value=None, dtype=tf.float32, normalizer_fn=None),\n",
       " _NumericColumn(key='the_Countess', shape=(1,), default_value=None, dtype=tf.float32, normalizer_fn=None)]"
      ]
     },
     "execution_count": 681,
     "metadata": {},
     "output_type": "execute_result"
    }
   ],
   "source": [
    "my_feature_columns"
   ]
  },
  {
   "cell_type": "code",
   "execution_count": 1213,
   "metadata": {},
   "outputs": [],
   "source": [
    "HIDDEN_LAYER=[200,100,80,50,50]\n",
    "DROPOUT = 0.01"
   ]
  },
  {
   "cell_type": "markdown",
   "metadata": {},
   "source": [
    "## current best performing parameters [200,100,80,50,50] learning rate = 0.00006, no dropout, batch_size = 800, steps = 8000"
   ]
  },
  {
   "cell_type": "code",
   "execution_count": 1214,
   "metadata": {},
   "outputs": [
    {
     "name": "stdout",
     "output_type": "stream",
     "text": [
      "INFO:tensorflow:Using default config.\n",
      "WARNING:tensorflow:Using temporary folder as model directory: /tmp/tmp9ji94pr9\n",
      "INFO:tensorflow:Using config: {'_save_summary_steps': 100, '_num_worker_replicas': 1, '_service': None, '_model_dir': '/tmp/tmp9ji94pr9', '_keep_checkpoint_every_n_hours': 10000, '_num_ps_replicas': 0, '_save_checkpoints_steps': None, '_log_step_count_steps': 100, '_task_type': 'worker', '_tf_random_seed': None, '_master': '', '_save_checkpoints_secs': 600, '_session_config': None, '_keep_checkpoint_max': 5, '_task_id': 0, '_cluster_spec': <tensorflow.python.training.server_lib.ClusterSpec object at 0x7fa11faba048>, '_is_chief': True}\n"
     ]
    }
   ],
   "source": [
    "classifier = tf.estimator.DNNClassifier(\n",
    "    feature_columns=my_feature_columns,\n",
    "    # Two hidden layers of 10 nodes each.\n",
    "    hidden_units=HIDDEN_LAYER,\n",
    "    optimizer=tf.train.AdagradOptimizer(\n",
    "      learning_rate=0.00006\n",
    "    ),\n",
    "#     optimizer=tf.train.GradientDescentOptimizer(\n",
    "#       learning_rate=0.000001\n",
    "#     ),\n",
    "    # The model must choose between 3 classes.\n",
    "    n_classes=2\n",
    "    ,dropout=DROPOUT\n",
    ")"
   ]
  },
  {
   "cell_type": "code",
   "execution_count": 1215,
   "metadata": {},
   "outputs": [
    {
     "name": "stdout",
     "output_type": "stream",
     "text": [
      "INFO:tensorflow:Create CheckpointSaverHook.\n",
      "INFO:tensorflow:Saving checkpoints for 1 into /tmp/tmp9ji94pr9/model.ckpt.\n",
      "INFO:tensorflow:loss = 580.7579, step = 1\n",
      "INFO:tensorflow:global_step/sec: 41.4359\n",
      "INFO:tensorflow:loss = 560.78174, step = 101 (2.414 sec)\n",
      "INFO:tensorflow:global_step/sec: 43.3249\n",
      "INFO:tensorflow:loss = 552.978, step = 201 (2.308 sec)\n",
      "INFO:tensorflow:global_step/sec: 43.1037\n",
      "INFO:tensorflow:loss = 548.0115, step = 301 (2.320 sec)\n",
      "INFO:tensorflow:global_step/sec: 41.6074\n",
      "INFO:tensorflow:loss = 543.95276, step = 401 (2.403 sec)\n",
      "INFO:tensorflow:global_step/sec: 43.1861\n",
      "INFO:tensorflow:loss = 539.61365, step = 501 (2.316 sec)\n",
      "INFO:tensorflow:global_step/sec: 43.164\n",
      "INFO:tensorflow:loss = 536.509, step = 601 (2.317 sec)\n",
      "INFO:tensorflow:global_step/sec: 43.5572\n",
      "INFO:tensorflow:loss = 533.37476, step = 701 (2.296 sec)\n",
      "INFO:tensorflow:global_step/sec: 43.3954\n",
      "INFO:tensorflow:loss = 530.3895, step = 801 (2.304 sec)\n",
      "INFO:tensorflow:global_step/sec: 43.2732\n",
      "INFO:tensorflow:loss = 527.4403, step = 901 (2.311 sec)\n",
      "INFO:tensorflow:global_step/sec: 43.3172\n",
      "INFO:tensorflow:loss = 524.09204, step = 1001 (2.309 sec)\n",
      "INFO:tensorflow:global_step/sec: 43.0153\n",
      "INFO:tensorflow:loss = 520.17395, step = 1101 (2.325 sec)\n",
      "INFO:tensorflow:global_step/sec: 43.4538\n",
      "INFO:tensorflow:loss = 517.1129, step = 1201 (2.301 sec)\n",
      "INFO:tensorflow:global_step/sec: 43.5066\n",
      "INFO:tensorflow:loss = 515.7639, step = 1301 (2.299 sec)\n",
      "INFO:tensorflow:global_step/sec: 43.6173\n",
      "INFO:tensorflow:loss = 514.82837, step = 1401 (2.293 sec)\n",
      "INFO:tensorflow:global_step/sec: 43.3083\n",
      "INFO:tensorflow:loss = 511.23843, step = 1501 (2.309 sec)\n",
      "INFO:tensorflow:global_step/sec: 43.6405\n",
      "INFO:tensorflow:loss = 506.36258, step = 1601 (2.291 sec)\n",
      "INFO:tensorflow:global_step/sec: 43.4742\n",
      "INFO:tensorflow:loss = 503.81906, step = 1701 (2.300 sec)\n",
      "INFO:tensorflow:global_step/sec: 41.6761\n",
      "INFO:tensorflow:loss = 503.3606, step = 1801 (2.399 sec)\n",
      "INFO:tensorflow:global_step/sec: 42.9317\n",
      "INFO:tensorflow:loss = 501.1078, step = 1901 (2.329 sec)\n",
      "INFO:tensorflow:global_step/sec: 43.5375\n",
      "INFO:tensorflow:loss = 496.33026, step = 2001 (2.297 sec)\n",
      "INFO:tensorflow:global_step/sec: 43.6933\n",
      "INFO:tensorflow:loss = 495.2025, step = 2101 (2.289 sec)\n",
      "INFO:tensorflow:global_step/sec: 43.784\n",
      "INFO:tensorflow:loss = 492.84103, step = 2201 (2.284 sec)\n",
      "INFO:tensorflow:global_step/sec: 43.7267\n",
      "INFO:tensorflow:loss = 490.43585, step = 2301 (2.287 sec)\n",
      "INFO:tensorflow:global_step/sec: 43.737\n",
      "INFO:tensorflow:loss = 484.19852, step = 2401 (2.286 sec)\n",
      "INFO:tensorflow:global_step/sec: 43.7141\n",
      "INFO:tensorflow:loss = 481.32526, step = 2501 (2.288 sec)\n",
      "INFO:tensorflow:global_step/sec: 43.0714\n",
      "INFO:tensorflow:loss = 482.63116, step = 2601 (2.321 sec)\n",
      "INFO:tensorflow:global_step/sec: 42.9302\n",
      "INFO:tensorflow:loss = 476.79297, step = 2701 (2.329 sec)\n",
      "INFO:tensorflow:global_step/sec: 43.4953\n",
      "INFO:tensorflow:loss = 473.84454, step = 2801 (2.299 sec)\n",
      "INFO:tensorflow:global_step/sec: 43.0227\n",
      "INFO:tensorflow:loss = 474.94278, step = 2901 (2.324 sec)\n",
      "INFO:tensorflow:global_step/sec: 43.3711\n",
      "INFO:tensorflow:loss = 472.60803, step = 3001 (2.306 sec)\n",
      "INFO:tensorflow:global_step/sec: 42.5756\n",
      "INFO:tensorflow:loss = 466.66965, step = 3101 (2.349 sec)\n",
      "INFO:tensorflow:global_step/sec: 43.3312\n",
      "INFO:tensorflow:loss = 463.54416, step = 3201 (2.308 sec)\n",
      "INFO:tensorflow:global_step/sec: 43.3108\n",
      "INFO:tensorflow:loss = 461.39905, step = 3301 (2.309 sec)\n",
      "INFO:tensorflow:global_step/sec: 43.5599\n",
      "INFO:tensorflow:loss = 459.79385, step = 3401 (2.296 sec)\n",
      "INFO:tensorflow:global_step/sec: 43.6653\n",
      "INFO:tensorflow:loss = 459.4261, step = 3501 (2.290 sec)\n",
      "INFO:tensorflow:global_step/sec: 43.5517\n",
      "INFO:tensorflow:loss = 456.77243, step = 3601 (2.296 sec)\n",
      "INFO:tensorflow:global_step/sec: 43.0959\n",
      "INFO:tensorflow:loss = 451.5943, step = 3701 (2.322 sec)\n",
      "INFO:tensorflow:global_step/sec: 43.8973\n",
      "INFO:tensorflow:loss = 448.51996, step = 3801 (2.277 sec)\n",
      "INFO:tensorflow:global_step/sec: 43.2345\n",
      "INFO:tensorflow:loss = 445.38702, step = 3901 (2.313 sec)\n",
      "INFO:tensorflow:global_step/sec: 43.3265\n",
      "INFO:tensorflow:loss = 446.69403, step = 4001 (2.308 sec)\n",
      "INFO:tensorflow:global_step/sec: 42.9272\n",
      "INFO:tensorflow:loss = 450.42603, step = 4101 (2.330 sec)\n",
      "INFO:tensorflow:global_step/sec: 43.4315\n",
      "INFO:tensorflow:loss = 441.97165, step = 4201 (2.302 sec)\n",
      "INFO:tensorflow:global_step/sec: 43.3487\n",
      "INFO:tensorflow:loss = 434.7252, step = 4301 (2.307 sec)\n",
      "INFO:tensorflow:global_step/sec: 43.5963\n",
      "INFO:tensorflow:loss = 427.6732, step = 4401 (2.294 sec)\n",
      "INFO:tensorflow:global_step/sec: 41.7871\n",
      "INFO:tensorflow:loss = 439.04266, step = 4501 (2.393 sec)\n",
      "INFO:tensorflow:global_step/sec: 43.2952\n",
      "INFO:tensorflow:loss = 431.17633, step = 4601 (2.310 sec)\n",
      "INFO:tensorflow:global_step/sec: 43.3561\n",
      "INFO:tensorflow:loss = 426.30145, step = 4701 (2.307 sec)\n",
      "INFO:tensorflow:global_step/sec: 43.4661\n",
      "INFO:tensorflow:loss = 427.79822, step = 4801 (2.301 sec)\n",
      "INFO:tensorflow:global_step/sec: 43.6308\n",
      "INFO:tensorflow:loss = 421.72238, step = 4901 (2.292 sec)\n",
      "INFO:tensorflow:global_step/sec: 43.4802\n",
      "INFO:tensorflow:loss = 422.84323, step = 5001 (2.300 sec)\n",
      "INFO:tensorflow:global_step/sec: 43.5588\n",
      "INFO:tensorflow:loss = 411.0569, step = 5101 (2.296 sec)\n",
      "INFO:tensorflow:global_step/sec: 43.3396\n",
      "INFO:tensorflow:loss = 414.3587, step = 5201 (2.307 sec)\n",
      "INFO:tensorflow:global_step/sec: 42.8208\n",
      "INFO:tensorflow:loss = 417.68713, step = 5301 (2.335 sec)\n",
      "INFO:tensorflow:global_step/sec: 43.0469\n",
      "INFO:tensorflow:loss = 417.87366, step = 5401 (2.323 sec)\n",
      "INFO:tensorflow:global_step/sec: 42.4439\n",
      "INFO:tensorflow:loss = 412.54288, step = 5501 (2.356 sec)\n",
      "INFO:tensorflow:global_step/sec: 43.0635\n",
      "INFO:tensorflow:loss = 406.956, step = 5601 (2.322 sec)\n",
      "INFO:tensorflow:global_step/sec: 43.4161\n",
      "INFO:tensorflow:loss = 396.0456, step = 5701 (2.303 sec)\n",
      "INFO:tensorflow:global_step/sec: 43.6548\n",
      "INFO:tensorflow:loss = 404.55103, step = 5801 (2.291 sec)\n",
      "INFO:tensorflow:global_step/sec: 41.785\n",
      "INFO:tensorflow:loss = 398.31323, step = 5901 (2.393 sec)\n",
      "INFO:tensorflow:global_step/sec: 43.3587\n",
      "INFO:tensorflow:loss = 400.42432, step = 6001 (2.306 sec)\n",
      "INFO:tensorflow:global_step/sec: 43.4288\n",
      "INFO:tensorflow:loss = 409.16302, step = 6101 (2.302 sec)\n",
      "INFO:tensorflow:global_step/sec: 43.7597\n",
      "INFO:tensorflow:loss = 394.08972, step = 6201 (2.285 sec)\n",
      "INFO:tensorflow:global_step/sec: 43.482\n",
      "INFO:tensorflow:loss = 397.29282, step = 6301 (2.300 sec)\n",
      "INFO:tensorflow:global_step/sec: 43.7516\n",
      "INFO:tensorflow:loss = 403.86795, step = 6401 (2.286 sec)\n",
      "INFO:tensorflow:global_step/sec: 43.7611\n",
      "INFO:tensorflow:loss = 399.19662, step = 6501 (2.285 sec)\n",
      "INFO:tensorflow:global_step/sec: 43.321\n",
      "INFO:tensorflow:loss = 396.4764, step = 6601 (2.309 sec)\n",
      "INFO:tensorflow:global_step/sec: 42.9837\n",
      "INFO:tensorflow:loss = 390.37457, step = 6701 (2.326 sec)\n",
      "INFO:tensorflow:global_step/sec: 43.7898\n",
      "INFO:tensorflow:loss = 382.1441, step = 6801 (2.284 sec)\n",
      "INFO:tensorflow:global_step/sec: 43.5196\n",
      "INFO:tensorflow:loss = 389.49323, step = 6901 (2.298 sec)\n",
      "INFO:tensorflow:global_step/sec: 43.5019\n",
      "INFO:tensorflow:loss = 386.47614, step = 7001 (2.299 sec)\n",
      "INFO:tensorflow:global_step/sec: 43.3774\n",
      "INFO:tensorflow:loss = 390.9795, step = 7101 (2.306 sec)\n",
      "INFO:tensorflow:global_step/sec: 42.4892\n",
      "INFO:tensorflow:loss = 390.5396, step = 7201 (2.353 sec)\n",
      "INFO:tensorflow:global_step/sec: 43.5172\n",
      "INFO:tensorflow:loss = 379.00467, step = 7301 (2.298 sec)\n",
      "INFO:tensorflow:global_step/sec: 43.7965\n",
      "INFO:tensorflow:loss = 386.88962, step = 7401 (2.283 sec)\n",
      "INFO:tensorflow:global_step/sec: 43.5608\n",
      "INFO:tensorflow:loss = 385.0103, step = 7501 (2.296 sec)\n",
      "INFO:tensorflow:global_step/sec: 43.2821\n",
      "INFO:tensorflow:loss = 371.05768, step = 7601 (2.310 sec)\n",
      "INFO:tensorflow:global_step/sec: 43.9454\n",
      "INFO:tensorflow:loss = 379.83798, step = 7701 (2.276 sec)\n",
      "INFO:tensorflow:global_step/sec: 43.7613\n",
      "INFO:tensorflow:loss = 374.33325, step = 7801 (2.285 sec)\n",
      "INFO:tensorflow:global_step/sec: 43.4769\n",
      "INFO:tensorflow:loss = 372.3184, step = 7901 (2.300 sec)\n",
      "INFO:tensorflow:Saving checkpoints for 8000 into /tmp/tmp9ji94pr9/model.ckpt.\n",
      "INFO:tensorflow:Loss for final step: 369.89578.\n"
     ]
    },
    {
     "data": {
      "text/plain": [
       "<tensorflow.python.estimator.canned.dnn.DNNClassifier at 0x7fa11f00e898>"
      ]
     },
     "execution_count": 1215,
     "metadata": {},
     "output_type": "execute_result"
    }
   ],
   "source": [
    "classifier.train(\n",
    "    input_fn=lambda:train_input_fn(train_x,train_y,batch_size=800), steps=8000)"
   ]
  },
  {
   "cell_type": "code",
   "execution_count": 1216,
   "metadata": {},
   "outputs": [
    {
     "name": "stdout",
     "output_type": "stream",
     "text": [
      "INFO:tensorflow:Starting evaluation at 2018-04-17-03:56:03\n",
      "INFO:tensorflow:Restoring parameters from /tmp/tmp9ji94pr9/model.ckpt-8000\n",
      "INFO:tensorflow:Finished evaluation at 2018-04-17-03:56:04\n",
      "INFO:tensorflow:Saving dict for global step 8000: accuracy = 0.83040935, accuracy_baseline = 0.6374269, auc = 0.8635691, auc_precision_recall = 0.8369951, average_loss = 0.45441094, global_step = 8000, label/mean = 0.3625731, loss = 77.70427, prediction/mean = 0.3961867\n",
      "\n",
      "Test set accuracy: 0.8304093480110168\n",
      "\n"
     ]
    }
   ],
   "source": [
    "eval_result = classifier.evaluate(\n",
    "    input_fn=lambda:eval_input_fn(test_x, test_y, 1000))\n",
    "\n",
    "print('\\nTest set accuracy: {}\\n'.format(eval_result['accuracy']))\n",
    "\n",
    "grid_search = grid_search.append({'hidden_layer':str(HIDDEN_LAYER).replace(',','_').replace(' ','').replace(']','').replace('[','')\n",
    "                    ,'dropout':DROPOUT\n",
    "                    ,'accuracy': eval_result['accuracy']},ignore_index=True)"
   ]
  },
  {
   "cell_type": "code",
   "execution_count": 1217,
   "metadata": {},
   "outputs": [
    {
     "name": "stdout",
     "output_type": "stream",
     "text": [
      "INFO:tensorflow:Restoring parameters from /tmp/tmp9ji94pr9/model.ckpt-8000\n"
     ]
    }
   ],
   "source": [
    "predictions = classifier.predict(\n",
    "    input_fn=lambda:eval_input_fn(final_validate_data_v,None,batch_size=1000))\n",
    "result_df = pd.DataFrame(columns=['Survived'])\n",
    "for predic in predictions:\n",
    "    row = {'Survived': predic['class_ids'][0]}\n",
    "    result_df = result_df.append(row,ignore_index=True)\n",
    "df = pd.concat([final_validate_data.PassengerId.reset_index(drop=True),result_df],axis=1)"
   ]
  },
  {
   "cell_type": "code",
   "execution_count": 1218,
   "metadata": {},
   "outputs": [
    {
     "data": {
      "text/plain": [
       "(418, 2)"
      ]
     },
     "execution_count": 1218,
     "metadata": {},
     "output_type": "execute_result"
    }
   ],
   "source": [
    "df.shape"
   ]
  },
  {
   "cell_type": "code",
   "execution_count": 1219,
   "metadata": {},
   "outputs": [],
   "source": [
    "Last_prediction = pd.read_csv(\"./predicted_age.csv\")"
   ]
  },
  {
   "cell_type": "code",
   "execution_count": 1220,
   "metadata": {},
   "outputs": [],
   "source": [
    "df.to_csv('./predicted_age.csv',index=False)"
   ]
  },
  {
   "cell_type": "code",
   "execution_count": 1221,
   "metadata": {},
   "outputs": [
    {
     "data": {
      "text/plain": [
       "count      418\n",
       "unique       2\n",
       "top       True\n",
       "freq       406\n",
       "Name: Survived, dtype: object"
      ]
     },
     "execution_count": 1221,
     "metadata": {},
     "output_type": "execute_result"
    }
   ],
   "source": [
    "(df.Survived == Last_prediction.Survived).describe()"
   ]
  },
  {
   "cell_type": "code",
   "execution_count": null,
   "metadata": {},
   "outputs": [],
   "source": []
  },
  {
   "cell_type": "code",
   "execution_count": null,
   "metadata": {},
   "outputs": [],
   "source": []
  },
  {
   "cell_type": "code",
   "execution_count": null,
   "metadata": {},
   "outputs": [],
   "source": []
  },
  {
   "cell_type": "code",
   "execution_count": null,
   "metadata": {},
   "outputs": [],
   "source": []
  },
  {
   "cell_type": "code",
   "execution_count": null,
   "metadata": {},
   "outputs": [],
   "source": [
    "wrong_prediction = df.query(\"Survived != p_Survived\")"
   ]
  },
  {
   "cell_type": "code",
   "execution_count": 773,
   "metadata": {},
   "outputs": [],
   "source": [
    "right_prediction = df.query(\"Survived == p_Survived\")"
   ]
  },
  {
   "cell_type": "code",
   "execution_count": 796,
   "metadata": {},
   "outputs": [
    {
     "data": {
      "image/png": "[encoded data removed]",
      "text/plain": [
       "<Figure size 432x288 with 1 Axes>"
      ]
     },
     "metadata": {},
     "output_type": "display_data"
    }
   ],
   "source": [
    "p = wrong_prediction.query('Survived==1&S==1&male==1').plot.scatter('Age','n_fare')"
   ]
  },
  {
   "cell_type": "code",
   "execution_count": 816,
   "metadata": {},
   "outputs": [
    {
     "data": {
      "text/plain": [
       "male\n",
       "0    0.357143\n",
       "1    0.642857\n",
       "Name: male, dtype: float64"
      ]
     },
     "execution_count": 816,
     "metadata": {},
     "output_type": "execute_result"
    }
   ],
   "source": [
    "wrong_prediction.male.groupby(wrong_prediction.male).count()/28"
   ]
  },
  {
   "cell_type": "code",
   "execution_count": 818,
   "metadata": {},
   "outputs": [
    {
     "data": {
      "text/plain": [
       "Age\n",
       "4.0     0.035714\n",
       "5.0     0.035714\n",
       "18.0    0.071429\n",
       "20.0    0.035714\n",
       "21.0    0.035714\n",
       "22.0    0.071429\n",
       "24.0    0.035714\n",
       "25.0    0.035714\n",
       "26.0    0.035714\n",
       "27.0    0.071429\n",
       "28.0    0.035714\n",
       "30.0    0.107143\n",
       "31.0    0.035714\n",
       "32.0    0.071429\n",
       "36.0    0.035714\n",
       "38.0    0.035714\n",
       "40.0    0.035714\n",
       "42.0    0.035714\n",
       "45.0    0.071429\n",
       "48.0    0.035714\n",
       "50.0    0.035714\n",
       "Name: Age, dtype: float64"
      ]
     },
     "execution_count": 818,
     "metadata": {},
     "output_type": "execute_result"
    }
   ],
   "source": [
    "wrong_prediction.Age.groupby(wrong_prediction.Age).count()/28"
   ]
  },
  {
   "cell_type": "code",
   "execution_count": 797,
   "metadata": {},
   "outputs": [
    {
     "data": {
      "text/plain": [
       "<matplotlib.axes._subplots.AxesSubplot at 0x7fa172fe6d68>"
      ]
     },
     "execution_count": 797,
     "metadata": {},
     "output_type": "execute_result"
    },
    {
     "data": {
      "image/png": "[encoded data removed]",
      "text/plain": [
       "<Figure size 432x288 with 1 Axes>"
      ]
     },
     "metadata": {},
     "output_type": "display_data"
    }
   ],
   "source": [
    "right_prediction.query('Survived==1&S==1&male==1').plot.scatter('Age','n_fare')"
   ]
  },
  {
   "cell_type": "code",
   "execution_count": 973,
   "metadata": {},
   "outputs": [
    {
     "name": "stdout",
     "output_type": "stream",
     "text": [
      "INFO:tensorflow:Restoring parameters from /tmp/tmpbaj4o6_q/model.ckpt-4000\n"
     ]
    },
    {
     "ename": "KeyError",
     "evalue": "'class_ids'",
     "output_type": "error",
     "traceback": [
      "\u001b[0;31m---------------------------------------------------------------------------\u001b[0m",
      "\u001b[0;31mKeyError\u001b[0m                                  Traceback (most recent call last)",
      "\u001b[0;32m<ipython-input-973-ef5e9a884e68>\u001b[0m in \u001b[0;36m<module>\u001b[0;34m()\u001b[0m\n\u001b[1;32m      3\u001b[0m \u001b[0mresult_df\u001b[0m \u001b[0;34m=\u001b[0m \u001b[0mpd\u001b[0m\u001b[0;34m.\u001b[0m\u001b[0mDataFrame\u001b[0m\u001b[0;34m(\u001b[0m\u001b[0mcolumns\u001b[0m\u001b[0;34m=\u001b[0m\u001b[0;34m[\u001b[0m\u001b[0;34m'Survived'\u001b[0m\u001b[0;34m]\u001b[0m\u001b[0;34m)\u001b[0m\u001b[0;34m\u001b[0m\u001b[0m\n\u001b[1;32m      4\u001b[0m \u001b[0;32mfor\u001b[0m \u001b[0mpredic\u001b[0m \u001b[0;32min\u001b[0m \u001b[0mpredictions\u001b[0m\u001b[0;34m:\u001b[0m\u001b[0;34m\u001b[0m\u001b[0m\n\u001b[0;32m----> 5\u001b[0;31m     \u001b[0mrow\u001b[0m \u001b[0;34m=\u001b[0m \u001b[0;34m{\u001b[0m\u001b[0;34m'Survived'\u001b[0m\u001b[0;34m:\u001b[0m \u001b[0mpredic\u001b[0m\u001b[0;34m[\u001b[0m\u001b[0;34m'class_ids'\u001b[0m\u001b[0;34m]\u001b[0m\u001b[0;34m[\u001b[0m\u001b[0;36m0\u001b[0m\u001b[0;34m]\u001b[0m\u001b[0;34m}\u001b[0m\u001b[0;34m\u001b[0m\u001b[0m\n\u001b[0m\u001b[1;32m      6\u001b[0m     \u001b[0mresult_df\u001b[0m \u001b[0;34m=\u001b[0m \u001b[0mresult_df\u001b[0m\u001b[0;34m.\u001b[0m\u001b[0mappend\u001b[0m\u001b[0;34m(\u001b[0m\u001b[0mrow\u001b[0m\u001b[0;34m,\u001b[0m\u001b[0mignore_index\u001b[0m\u001b[0;34m=\u001b[0m\u001b[0;32mTrue\u001b[0m\u001b[0;34m)\u001b[0m\u001b[0;34m\u001b[0m\u001b[0m\n",
      "\u001b[0;31mKeyError\u001b[0m: 'class_ids'"
     ]
    }
   ],
   "source": [
    "predictions = classifier.predict(\n",
    "    input_fn=lambda:eval_input_fn(final_validate_data_v,None,batch_size=1000))\n",
    "result_df = pd.DataFrame(columns=['Survived'])\n",
    "for predic in predictions:\n",
    "    row = {'Survived': predic['class_ids'][0]}\n",
    "    result_df = result_df.append(row,ignore_index=True)"
   ]
  },
  {
   "cell_type": "code",
   "execution_count": 703,
   "metadata": {},
   "outputs": [],
   "source": [
    "df = pd.concat([validate,result_df], axis=1)"
   ]
  },
  {
   "cell_type": "code",
   "execution_count": 221,
   "metadata": {},
   "outputs": [],
   "source": [
    "df.to_csv('./{}_{}_restul.csv'.format(str(HIDDEN_LAYER).replace(',','_').replace(' ','').replace(']','').replace('[',''),\n",
    "                                      int(DROPOUT*10),index=False))"
   ]
  },
  {
   "cell_type": "code",
   "execution_count": null,
   "metadata": {},
   "outputs": [],
   "source": [
    "from sklearn.model_selection import cross_val_score\n",
    "from sklearn.datasets import make_blobs\n",
    "from sklearn.ensemble import RandomForestClassifier\n",
    "from sklearn.ensemble import ExtraTreesClassifier\n",
    "from sklearn.tree import DecisionTreeClassifier\n",
    "clf = RandomForestClassifier(n_estimators=10, max_depth=None, min_samples_split=2, random_state=0,)\n",
    "clf.fit(train_x,train_y)\n",
    "scores = cross_val_score(clf, test_x, test_y)\n",
    "scores.mean()                             "
   ]
  },
  {
   "cell_type": "code",
   "execution_count": 475,
   "metadata": {},
   "outputs": [
    {
     "data": {
      "text/plain": [
       "Index(['Age', 'SibSp', 'Parch', 'n_fare', 'C', 'Q', 'S', 'female', 'male',\n",
       "       'Second_class', 'first_class', 'third_class', 'Capt', 'Col', 'Don',\n",
       "       'Dr', 'Jonkheer', 'Lady', 'Major', 'Master', 'Miss', 'Mlle', 'Mme',\n",
       "       'Mr', 'Mrs', 'Ms', 'Rev', 'Sir', 'the_Countess', 'Dona'],\n",
       "      dtype='object')"
      ]
     },
     "execution_count": 475,
     "metadata": {},
     "output_type": "execute_result"
    }
   ],
   "source": [
    "train_x.columns"
   ]
  },
  {
   "cell_type": "code",
   "execution_count": 476,
   "metadata": {},
   "outputs": [
    {
     "data": {
      "text/plain": [
       "Index(['Age', 'SibSp', 'Parch', 'n_fare', 'C', 'Q', 'S', 'female', 'male',\n",
       "       'Second_class', 'first_class', 'third_class', 'Col', 'Dona', 'Dr',\n",
       "       'Master', 'Miss', 'Mr', 'Mrs', 'Ms', 'Rev', 'Capt', 'Don', 'Jonkheer',\n",
       "       'Lady', 'Major', 'Mlle', 'Mme', 'Sir', 'the_Countess'],\n",
       "      dtype='object')"
      ]
     },
     "execution_count": 476,
     "metadata": {},
     "output_type": "execute_result"
    }
   ],
   "source": [
    "validate_data.columns"
   ]
  },
  {
   "cell_type": "code",
   "execution_count": 477,
   "metadata": {},
   "outputs": [],
   "source": [
    "result_df = pd.DataFrame(columns=['Survived'])\n",
    "predictions = clf.predict(validate_data)\n",
    "for predic in predictions:\n",
    "    row = {'Survived': predic}\n",
    "    result_df = result_df.append(row,ignore_index=True)\n",
    "df = pd.concat([validate.PassengerId,result_df], axis=1)"
   ]
  },
  {
   "cell_type": "code",
   "execution_count": 478,
   "metadata": {},
   "outputs": [],
   "source": [
    "df.to_csv('rf.csv',index=False)"
   ]
  },
  {
   "cell_type": "code",
   "execution_count": null,
   "metadata": {},
   "outputs": [],
   "source": [
    "## predict age based on fare, SibSp, Parch, Marriage_status,sex"
   ]
  },
  {
   "cell_type": "code",
   "execution_count": 852,
   "metadata": {},
   "outputs": [],
   "source": [
    "age_predict= tmp_train_data.drop(['Survived'],axis=1)"
   ]
  },
  {
   "cell_type": "code",
   "execution_count": 853,
   "metadata": {},
   "outputs": [],
   "source": [
    "age_predict_train,age_predict_test = train_test_split(age_predict, test_size=0.2)"
   ]
  },
  {
   "cell_type": "code",
   "execution_count": 854,
   "metadata": {},
   "outputs": [],
   "source": [
    "age_predict_train_x,age_predict_train_y = age_predict_train,age_predict_train.pop('Age')"
   ]
  },
  {
   "cell_type": "code",
   "execution_count": 861,
   "metadata": {},
   "outputs": [
    {
     "data": {
      "text/plain": [
       "Index(['SibSp', 'Parch', 'n_fare', 'C', 'Q', 'S', 'female', 'male',\n",
       "       'Second_class', 'first_class', 'third_class', 'Capt', 'Col', 'Don',\n",
       "       'Dr', 'Jonkheer', 'Lady', 'Major', 'Master', 'Miss', 'Mlle', 'Mme',\n",
       "       'Mr', 'Mrs', 'Ms', 'Rev', 'Sir', 'the_Countess'],\n",
       "      dtype='object')"
      ]
     },
     "execution_count": 861,
     "metadata": {},
     "output_type": "execute_result"
    }
   ],
   "source": [
    "age_predict_train_x.columns"
   ]
  },
  {
   "cell_type": "code",
   "execution_count": 855,
   "metadata": {},
   "outputs": [],
   "source": [
    "age_predict_test_x,age_predict_test_y = age_predict_test,age_predict_test.pop('Age')"
   ]
  },
  {
   "cell_type": "code",
   "execution_count": 998,
   "metadata": {},
   "outputs": [],
   "source": [
    "validate_data_to_predict = tmp_validate_data[pd.isnull(tmp_validate_data.Age)==True]"
   ]
  },
  {
   "cell_type": "code",
   "execution_count": 999,
   "metadata": {},
   "outputs": [],
   "source": [
    "validate_data_to_predict_x = validate_data_to_predict.drop(['Age','PassengerId'],axis=1)"
   ]
  },
  {
   "cell_type": "code",
   "execution_count": 1000,
   "metadata": {},
   "outputs": [],
   "source": [
    "my_feature_columns = []\n",
    "for key in age_predict_train_x.keys():\n",
    "    my_feature_columns.append(tf.feature_column.numeric_column(key=key))"
   ]
  },
  {
   "cell_type": "code",
   "execution_count": 1001,
   "metadata": {},
   "outputs": [
    {
     "name": "stdout",
     "output_type": "stream",
     "text": [
      "INFO:tensorflow:Using default config.\n",
      "WARNING:tensorflow:Using temporary folder as model directory: /tmp/tmp7ueuoux8\n",
      "INFO:tensorflow:Using config: {'_save_summary_steps': 100, '_num_worker_replicas': 1, '_service': None, '_model_dir': '/tmp/tmp7ueuoux8', '_keep_checkpoint_every_n_hours': 10000, '_num_ps_replicas': 0, '_save_checkpoints_steps': None, '_log_step_count_steps': 100, '_task_type': 'worker', '_tf_random_seed': None, '_master': '', '_save_checkpoints_secs': 600, '_session_config': None, '_keep_checkpoint_max': 5, '_task_id': 0, '_cluster_spec': <tensorflow.python.training.server_lib.ClusterSpec object at 0x7fa1b0541a58>, '_is_chief': True}\n"
     ]
    }
   ],
   "source": [
    "classifier = tf.estimator.DNNRegressor(\n",
    "    feature_columns=my_feature_columns,\n",
    "    # Two hidden layers of 10 nodes each.\n",
    "    hidden_units=HIDDEN_LAYER,\n",
    "    optimizer=tf.train.AdagradOptimizer(\n",
    "      learning_rate=0.001\n",
    "    ))"
   ]
  },
  {
   "cell_type": "code",
   "execution_count": 1002,
   "metadata": {},
   "outputs": [
    {
     "name": "stdout",
     "output_type": "stream",
     "text": [
      "INFO:tensorflow:Create CheckpointSaverHook.\n",
      "INFO:tensorflow:Saving checkpoints for 1 into /tmp/tmp7ueuoux8/model.ckpt.\n",
      "INFO:tensorflow:loss = 826930.75, step = 1\n",
      "INFO:tensorflow:global_step/sec: 25.4111\n",
      "INFO:tensorflow:loss = 89356.984, step = 101 (3.936 sec)\n",
      "INFO:tensorflow:global_step/sec: 25.9275\n",
      "INFO:tensorflow:loss = 79033.69, step = 201 (3.857 sec)\n",
      "INFO:tensorflow:global_step/sec: 25.8951\n",
      "INFO:tensorflow:loss = 72394.74, step = 301 (3.862 sec)\n",
      "INFO:tensorflow:global_step/sec: 25.1527\n",
      "INFO:tensorflow:loss = 72348.69, step = 401 (3.976 sec)\n",
      "INFO:tensorflow:global_step/sec: 26.147\n",
      "INFO:tensorflow:loss = 72235.984, step = 501 (3.825 sec)\n",
      "INFO:tensorflow:global_step/sec: 25.8845\n",
      "INFO:tensorflow:loss = 71372.26, step = 601 (3.863 sec)\n",
      "INFO:tensorflow:global_step/sec: 25.6791\n",
      "INFO:tensorflow:loss = 67064.62, step = 701 (3.894 sec)\n",
      "INFO:tensorflow:global_step/sec: 26.0563\n",
      "INFO:tensorflow:loss = 70162.38, step = 801 (3.838 sec)\n",
      "INFO:tensorflow:global_step/sec: 26.1422\n",
      "INFO:tensorflow:loss = 66847.3, step = 901 (3.825 sec)\n",
      "INFO:tensorflow:global_step/sec: 26.0971\n",
      "INFO:tensorflow:loss = 64782.883, step = 1001 (3.832 sec)\n",
      "INFO:tensorflow:global_step/sec: 25.981\n",
      "INFO:tensorflow:loss = 64439.19, step = 1101 (3.849 sec)\n",
      "INFO:tensorflow:global_step/sec: 25.1547\n",
      "INFO:tensorflow:loss = 59857.7, step = 1201 (3.975 sec)\n",
      "INFO:tensorflow:global_step/sec: 25.8648\n",
      "INFO:tensorflow:loss = 61737.14, step = 1301 (3.866 sec)\n",
      "INFO:tensorflow:global_step/sec: 26.1321\n",
      "INFO:tensorflow:loss = 66865.94, step = 1401 (3.828 sec)\n",
      "INFO:tensorflow:global_step/sec: 25.8812\n",
      "INFO:tensorflow:loss = 58265.95, step = 1501 (3.863 sec)\n",
      "INFO:tensorflow:global_step/sec: 26.0119\n",
      "INFO:tensorflow:loss = 60206.61, step = 1601 (3.844 sec)\n",
      "INFO:tensorflow:global_step/sec: 25.8583\n",
      "INFO:tensorflow:loss = 58269.402, step = 1701 (3.867 sec)\n",
      "INFO:tensorflow:global_step/sec: 26.022\n",
      "INFO:tensorflow:loss = 61358.055, step = 1801 (3.843 sec)\n",
      "INFO:tensorflow:global_step/sec: 25.7837\n",
      "INFO:tensorflow:loss = 61447.703, step = 1901 (3.878 sec)\n",
      "INFO:tensorflow:global_step/sec: 25.1412\n",
      "INFO:tensorflow:loss = 59049.223, step = 2001 (3.977 sec)\n",
      "INFO:tensorflow:global_step/sec: 25.8383\n",
      "INFO:tensorflow:loss = 60858.375, step = 2101 (3.870 sec)\n",
      "INFO:tensorflow:global_step/sec: 26.0816\n",
      "INFO:tensorflow:loss = 59819.875, step = 2201 (3.834 sec)\n",
      "INFO:tensorflow:global_step/sec: 26.1007\n",
      "INFO:tensorflow:loss = 59647.367, step = 2301 (3.831 sec)\n",
      "INFO:tensorflow:global_step/sec: 25.9695\n",
      "INFO:tensorflow:loss = 56318.67, step = 2401 (3.851 sec)\n",
      "INFO:tensorflow:global_step/sec: 25.9792\n",
      "INFO:tensorflow:loss = 56473.08, step = 2501 (3.849 sec)\n",
      "INFO:tensorflow:global_step/sec: 25.9601\n",
      "INFO:tensorflow:loss = 57428.9, step = 2601 (3.852 sec)\n",
      "INFO:tensorflow:global_step/sec: 26.1408\n",
      "INFO:tensorflow:loss = 56266.254, step = 2701 (3.825 sec)\n",
      "INFO:tensorflow:global_step/sec: 25.2327\n",
      "INFO:tensorflow:loss = 58504.344, step = 2801 (3.963 sec)\n",
      "INFO:tensorflow:global_step/sec: 26.011\n",
      "INFO:tensorflow:loss = 61134.547, step = 2901 (3.845 sec)\n",
      "INFO:tensorflow:global_step/sec: 25.9202\n",
      "INFO:tensorflow:loss = 57542.242, step = 3001 (3.858 sec)\n",
      "INFO:tensorflow:global_step/sec: 25.9455\n",
      "INFO:tensorflow:loss = 56337.71, step = 3101 (3.854 sec)\n",
      "INFO:tensorflow:global_step/sec: 25.9797\n",
      "INFO:tensorflow:loss = 57585.492, step = 3201 (3.850 sec)\n",
      "INFO:tensorflow:global_step/sec: 25.8364\n",
      "INFO:tensorflow:loss = 56245.72, step = 3301 (3.869 sec)\n",
      "INFO:tensorflow:global_step/sec: 25.9752\n",
      "INFO:tensorflow:loss = 53107.492, step = 3401 (3.850 sec)\n",
      "INFO:tensorflow:global_step/sec: 26.0403\n",
      "INFO:tensorflow:loss = 55119.582, step = 3501 (3.840 sec)\n",
      "INFO:tensorflow:global_step/sec: 25.5295\n",
      "INFO:tensorflow:loss = 57704.496, step = 3601 (3.917 sec)\n",
      "INFO:tensorflow:global_step/sec: 25.9\n",
      "INFO:tensorflow:loss = 54858.16, step = 3701 (3.861 sec)\n",
      "INFO:tensorflow:global_step/sec: 25.8237\n",
      "INFO:tensorflow:loss = 59473.867, step = 3801 (3.872 sec)\n",
      "INFO:tensorflow:global_step/sec: 25.8663\n",
      "INFO:tensorflow:loss = 53591.355, step = 3901 (3.866 sec)\n",
      "INFO:tensorflow:Saving checkpoints for 4000 into /tmp/tmp7ueuoux8/model.ckpt.\n",
      "INFO:tensorflow:Loss for final step: 55656.715.\n"
     ]
    },
    {
     "data": {
      "text/plain": [
       "<tensorflow.python.estimator.canned.dnn.DNNRegressor at 0x7fa1b0541128>"
      ]
     },
     "execution_count": 1002,
     "metadata": {},
     "output_type": "execute_result"
    }
   ],
   "source": [
    "classifier.train(\n",
    "    input_fn=lambda:train_input_fn(age_predict_train_x,age_predict_train_y,batch_size=800), steps=4000)"
   ]
  },
  {
   "cell_type": "code",
   "execution_count": 1003,
   "metadata": {},
   "outputs": [
    {
     "name": "stdout",
     "output_type": "stream",
     "text": [
      "INFO:tensorflow:Starting evaluation at 2018-04-13-06:56:31\n",
      "INFO:tensorflow:Restoring parameters from /tmp/tmp7ueuoux8/model.ckpt-4000\n",
      "INFO:tensorflow:Finished evaluation at 2018-04-13-06:56:31\n",
      "INFO:tensorflow:Saving dict for global step 4000: average_loss = 144.92404, global_step = 4000, loss = 24782.012\n",
      "{'average_loss': 144.92404, 'loss': 24782.012, 'global_step': 4000}\n"
     ]
    }
   ],
   "source": [
    "eval_result = classifier.evaluate(\n",
    "    input_fn=lambda:eval_input_fn(age_predict_test_x, age_predict_test_y, 1000))\n",
    "\n",
    "print(eval_result)"
   ]
  },
  {
   "cell_type": "code",
   "execution_count": 930,
   "metadata": {},
   "outputs": [
    {
     "data": {
      "text/plain": [
       "Index(['SibSp', 'Parch', 'n_fare', 'C', 'Q', 'S', 'female', 'male',\n",
       "       'Second_class', 'first_class', 'third_class', 'Capt', 'Col', 'Don',\n",
       "       'Dr', 'Jonkheer', 'Lady', 'Major', 'Master', 'Miss', 'Mlle', 'Mme',\n",
       "       'Mr', 'Mrs', 'Ms', 'Rev', 'Sir', 'the_Countess'],\n",
       "      dtype='object')"
      ]
     },
     "execution_count": 930,
     "metadata": {},
     "output_type": "execute_result"
    }
   ],
   "source": [
    "age_predict_test_x.columns"
   ]
  },
  {
   "cell_type": "code",
   "execution_count": 1004,
   "metadata": {},
   "outputs": [],
   "source": [
    "validate_data_to_predict_x['Capt'] = 0\n",
    "validate_data_to_predict_x['Don'] = 0\n",
    "validate_data_to_predict_x['Jonkheer'] = 0\n",
    "validate_data_to_predict_x['Lady'] = 0\n",
    "validate_data_to_predict_x['Major'] = 0\n",
    "validate_data_to_predict_x['Mlle'] = 0\n",
    "validate_data_to_predict_x['Mme'] = 0\n",
    "validate_data_to_predict_x['Sir'] = 0\n",
    "validate_data_to_predict_x['Mme'] = 0\n",
    "validate_data_to_predict_x['the_Countess'] = 0\n",
    "validate_data_to_predict_x['Mme'] = 0"
   ]
  },
  {
   "cell_type": "code",
   "execution_count": 1005,
   "metadata": {},
   "outputs": [
    {
     "name": "stdout",
     "output_type": "stream",
     "text": [
      "INFO:tensorflow:Restoring parameters from /tmp/tmp7ueuoux8/model.ckpt-4000\n"
     ]
    }
   ],
   "source": [
    "validate_data_to_predict_x= validate_data_to_predict_x.reset_index(drop=True)\n",
    "\n",
    "predictions = classifier.predict(\n",
    "    input_fn=lambda:eval_input_fn(validate_data_to_predict_x,None,batch_size=1000))\n",
    "result_df = pd.DataFrame(columns=['Age'])\n",
    "for predic in predictions:\n",
    "    row = {'Age': predic['predictions'][0]}\n",
    "    result_df = result_df.append(row,ignore_index=True)\n",
    "df = pd.concat([tmp_validate_data.PassengerId[pd.isnull(tmp_validate_data.Age)==True].reset_index(drop=True),validate_data_to_predict_x,result_df],axis=1)"
   ]
  },
  {
   "cell_type": "code",
   "execution_count": 1006,
   "metadata": {},
   "outputs": [],
   "source": [
    "final_validate_data = pd.concat([df,tmp_validate_data[pd.isnull(tmp_validate_data.Age)==False]],axis=0)"
   ]
  },
  {
   "cell_type": "code",
   "execution_count": 1007,
   "metadata": {},
   "outputs": [],
   "source": [
    "final_validate_data.fillna(0,inplace=True)"
   ]
  },
  {
   "cell_type": "code",
   "execution_count": 1008,
   "metadata": {},
   "outputs": [],
   "source": [
    "final_validate_data_v = final_validate_data.drop('PassengerId',axis=1)"
   ]
  },
  {
   "cell_type": "code",
   "execution_count": 1009,
   "metadata": {},
   "outputs": [
    {
     "data": {
      "text/plain": [
       "(418, 41)"
      ]
     },
     "execution_count": 1009,
     "metadata": {},
     "output_type": "execute_result"
    }
   ],
   "source": [
    "final_validate_data_v.shape"
   ]
  }
 ],
 "metadata": {
  "kernelspec": {
   "display_name": "Python 3",
   "language": "python",
   "name": "python3"
  },
  "language_info": {
   "codemirror_mode": {
    "name": "ipython",
    "version": 3
   },
   "file_extension": ".py",
   "mimetype": "text/x-python",
   "name": "python",
   "nbconvert_exporter": "python",
   "pygments_lexer": "ipython3",
   "version": "3.4.3"
  }
 },
 "nbformat": 4,
 "nbformat_minor": 2
}
