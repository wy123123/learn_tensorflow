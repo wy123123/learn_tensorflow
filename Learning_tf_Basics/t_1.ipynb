{
 "cells": [
  {
   "cell_type": "code",
   "execution_count": null,
   "metadata": {},
   "outputs": [],
   "source": [
    "import tensorflow as tf\n",
    "import numpy as np\n",
    "from __future__ import absolute_import\n",
    "from __future__ import division\n",
    "from __future__ import print_function\n",
    "from tensorflow.python import debug as tf_debug\n",
    "import seaborn as sns\n",
    "import pandas as pd"
   ]
  },
  {
   "cell_type": "code",
   "execution_count": 10,
   "metadata": {},
   "outputs": [],
   "source": [
    "writer = tf.summary.FileWriter('.')\n",
    "writer.add_graph(tf.get_default_graph())"
   ]
  },
  {
   "cell_type": "code",
   "execution_count": 34,
   "metadata": {},
   "outputs": [],
   "source": [
    "features = {\n",
    "    'sales' : [[5], [10], [8], [9], [2]],\n",
    "    'expense' : [[2], [1], [3], [4], [1]],\n",
    "    'department': ['sports', 'sports', 'gardening', 'gardening','other']}\n",
    "department_column = tf.feature_column.categorical_column_with_vocabulary_list(\n",
    "        'department', ['sports', 'gardening','other'])\n",
    "department_column = tf.feature_column.indicator_column(department_column)\n",
    "\n",
    "columns = [\n",
    "    tf.feature_column.numeric_column('sales'),\n",
    "    tf.feature_column.numeric_column('expense'),\n",
    "    department_column\n",
    "]\n",
    "inputs = tf.feature_column.input_layer(features, columns)"
   ]
  },
  {
   "cell_type": "code",
   "execution_count": null,
   "metadata": {},
   "outputs": [],
   "source": [
    "n_feature = 5\n",
    "x_value = np.random.rand(1000,n_feature)\n",
    "y_true_value = np.random.rand(m_examples, 1)\n",
    "loss_df = pd.DataFrame(columns=['x','y'])"
   ]
  },
  {
   "cell_type": "code",
   "execution_count": null,
   "metadata": {},
   "outputs": [],
   "source": [
    "x_value, y_true_value"
   ]
  },
  {
   "cell_type": "code",
   "execution_count": 180,
   "metadata": {},
   "outputs": [],
   "source": [
    "x_in = tf.placeholder(dtype=tf.float32, shape=[None,n_feature], name='x_in')\n",
    "y_pred = tf.placeholder(dtype=tf.float32,name='y_pred')"
   ]
  },
  {
   "cell_type": "code",
   "execution_count": 205,
   "metadata": {},
   "outputs": [],
   "source": [
    "linear_model = tf.layers.Dense(units=1)\n",
    "y_pred = linear_model(x_in)\n",
    "sess = tf.Session()\n",
    "sess.run(init)\n",
    "loss = tf.losses.mean_squared_error(labels=y_true_value, predictions=y_pred)\n",
    "optimizer = tf.train.GradientDescentOptimizer(0.00001)\n",
    "train = optimizer.minimize(loss)"
   ]
  },
  {
   "cell_type": "code",
   "execution_count": 206,
   "metadata": {},
   "outputs": [],
   "source": [
    "for i in range(100):\n",
    "    sess.run(tf.global_variables_initializer())\n",
    "    _,loss_value = sess.run([train, loss],feed_dict={x_in : x_value})\n",
    "    loss_df = loss_df.append({'x':i,'y':loss_value},ignore_index=True)\n",
    "    "
   ]
  },
  {
   "cell_type": "code",
   "execution_count": 208,
   "metadata": {},
   "outputs": [
    {
     "data": {
      "image/png": "[encoded data removed]",
      "text/plain": [
       "<Figure size 432x288 with 1 Axes>"
      ]
     },
     "metadata": {},
     "output_type": "display_data"
    }
   ],
   "source": [
    "plot = sns.pointplot(x='x',y='y',data=loss_df)"
   ]
  },
  {
   "cell_type": "code",
   "execution_count": 166,
   "metadata": {
    "collapsed": true
   },
   "outputs": [
    {
     "name": "stdout",
     "output_type": "stream",
     "text": [
      "[array([[ 0.26139826],\n",
      "       [-0.17175926],\n",
      "       [-0.5929877 ],\n",
      "       [ 0.35682765],\n",
      "       [-0.14855205]], dtype=float32), array([0.00128046], dtype=float32)]\n"
     ]
    }
   ],
   "source": [
    "print(sess.run(linear_model.weights))"
   ]
  },
  {
   "cell_type": "code",
   "execution_count": 89,
   "metadata": {
    "collapsed": true
   },
   "outputs": [
    {
     "data": {
      "text/plain": [
       "array([[-0.],\n",
       "       [-1.],\n",
       "       [-2.],\n",
       "       [-3.]], dtype=float32)"
      ]
     },
     "execution_count": 89,
     "metadata": {},
     "output_type": "execute_result"
    }
   ],
   "source": [
    "sess.run(y_pred).round()"
   ]
  },
  {
   "cell_type": "code",
   "execution_count": 90,
   "metadata": {},
   "outputs": [
    {
     "name": "stdout",
     "output_type": "stream",
     "text": [
      "[array([[-0.999996]], dtype=float32), array([0.99998856], dtype=float32)]\n"
     ]
    }
   ],
   "source": [
    "print(sess.run(linear_model.weights))"
   ]
  },
  {
   "cell_type": "code",
   "execution_count": 57,
   "metadata": {
    "collapsed": true
   },
   "outputs": [
    {
     "data": {
      "text/plain": [
       "array([[1., 1.],\n",
       "       [2., 2.],\n",
       "       [3., 3.],\n",
       "       [4., 4.]], dtype=float32)"
      ]
     },
     "execution_count": 57,
     "metadata": {},
     "output_type": "execute_result"
    }
   ],
   "source": [
    "sess.run(x)"
   ]
  },
  {
   "cell_type": "code",
   "execution_count": 113,
   "metadata": {},
   "outputs": [],
   "source": [
    "# build a simple linear regression\n",
    "# generate test data\n",
    "m_examples = 1000\n",
    "n_features = 4\n",
    "x_true = np.random.rand(m_examples, n_features)\n",
    "y_true = np.random.rand(m_examples, 1)\n",
    "\n",
    "# design computation graph for liner regression\n",
    "x_in = tf.placeholder(dtype=tf.float32,shape=[None,n_features],name='x_feature')\n",
    "y_in = tf.placeholder(dtype=tf.float32,shape=[None,1],name='y_in')\n",
    "W = tf.Variable(tf.random_normal([n_features, 1]),name='W')\n",
    "b = tf.Variable(tf.constant(0.1, shape=[]), name=\"b\")\n",
    "h = tf.add(tf.matmul(x_in, W), b)\n",
    "\n",
    "# cost function \n",
    "loss = tf.losses.mean_squared_error(labels=y_true, predictions=h)\n",
    "optimizer = tf.train.GradientDescentOptimizer(0.1)\n",
    "train_op = optimizer.minimize(loss)"
   ]
  },
  {
   "cell_type": "code",
   "execution_count": 114,
   "metadata": {},
   "outputs": [],
   "source": [
    "with tf.Session() as sess:\n",
    "    sess.run(tf.global_variables_initializer())\n",
    "    for batch in range(1000):\n",
    "        sess.run(train_op, feed_dict={\n",
    "            x_in: x_true,\n",
    "            y_in: y_true\n",
    "        })\n",
    "    w_computed = sess.run(W)\n",
    "    b_computed = sess.run(b)"
   ]
  },
  {
   "cell_type": "code",
   "execution_count": 115,
   "metadata": {},
   "outputs": [
    {
     "name": "stdout",
     "output_type": "stream",
     "text": [
      "w computed [0.01427, -0.02247, 0.01658, -0.00794]\n",
      "b computed 0.520\n"
     ]
    }
   ],
   "source": [
    "print(\"w computed [%s]\" % ', '.join(['%.5f' % x for x in w_computed.flatten()]))\n",
    "#print(\"w actual   [%s]\" % ', '.join(['%.5f' % x for x in w_true.flatten()]))\n",
    "print(\"b computed %.3f\" % b_computed)\n",
    "#print(\"b actual  %.3f\" % b_true[0])"
   ]
  },
  {
   "cell_type": "code",
   "execution_count": 21,
   "metadata": {},
   "outputs": [
    {
     "ename": "NameError",
     "evalue": "name 'train' is not defined",
     "output_type": "error",
     "traceback": [
      "\u001b[0;31m---------------------------------------------------------------------------\u001b[0m",
      "\u001b[0;31mNameError\u001b[0m                                 Traceback (most recent call last)",
      "\u001b[0;32m<ipython-input-21-3bb18a0b227b>\u001b[0m in \u001b[0;36m<module>\u001b[0;34m()\u001b[0m\n\u001b[1;32m      1\u001b[0m \u001b[0;32mfor\u001b[0m \u001b[0mi\u001b[0m \u001b[0;32min\u001b[0m \u001b[0mrange\u001b[0m\u001b[0;34m(\u001b[0m\u001b[0;36m10000\u001b[0m\u001b[0;34m)\u001b[0m\u001b[0;34m:\u001b[0m\u001b[0;34m\u001b[0m\u001b[0m\n\u001b[0;32m----> 2\u001b[0;31m   \u001b[0m_\u001b[0m\u001b[0;34m,\u001b[0m \u001b[0mloss_value\u001b[0m \u001b[0;34m=\u001b[0m \u001b[0msess\u001b[0m\u001b[0;34m.\u001b[0m\u001b[0mrun\u001b[0m\u001b[0;34m(\u001b[0m\u001b[0;34m(\u001b[0m\u001b[0mtrain\u001b[0m\u001b[0;34m,\u001b[0m \u001b[0mloss\u001b[0m\u001b[0;34m)\u001b[0m\u001b[0;34m)\u001b[0m\u001b[0;34m\u001b[0m\u001b[0m\n\u001b[0m\u001b[1;32m      3\u001b[0m   \u001b[0mprint\u001b[0m\u001b[0;34m(\u001b[0m\u001b[0mloss_value\u001b[0m\u001b[0;34m)\u001b[0m\u001b[0;34m\u001b[0m\u001b[0m\n",
      "\u001b[0;31mNameError\u001b[0m: name 'train' is not defined"
     ]
    }
   ],
   "source": [
    "for i in range(10000):\n",
    "  _, loss_value = sess.run((train, loss))\n",
    "  print(loss_value)"
   ]
  },
  {
   "cell_type": "code",
   "execution_count": 255,
   "metadata": {},
   "outputs": [],
   "source": [
    "loss = tf.losses.mean_squared_error(labels=y_true, predictions=y_pred)"
   ]
  },
  {
   "cell_type": "code",
   "execution_count": 257,
   "metadata": {
    "collapsed": true
   },
   "outputs": [
    {
     "ename": "ValueError",
     "evalue": "No gradients provided for any variable, check your graph for ops that do not support gradients, between variables [\"<tf.Variable 'dense/kernel:0' shape=(3, 1) dtype=float32_ref>\", \"<tf.Variable 'dense/bias:0' shape=(1,) dtype=float32_ref>\", \"<tf.Variable 'dense_1/kernel:0' shape=(4, 1) dtype=float32_ref>\", \"<tf.Variable 'dense_1/bias:0' shape=(1,) dtype=float32_ref>\", \"<tf.Variable 'dense_2/kernel:0' shape=(1, 1) dtype=float32_ref>\", \"<tf.Variable 'dense_2/bias:0' shape=(1,) dtype=float32_ref>\", \"<tf.Variable 'dense_3/kernel:0' shape=(1, 1) dtype=float32_ref>\", \"<tf.Variable 'dense_3/bias:0' shape=(1,) dtype=float32_ref>\", \"<tf.Variable 'dense_4/kernel:0' shape=(1, 1) dtype=float32_ref>\", \"<tf.Variable 'dense_4/bias:0' shape=(1,) dtype=float32_ref>\", \"<tf.Variable 'dense_5/kernel:0' shape=(4, 1) dtype=float32_ref>\", \"<tf.Variable 'dense_5/bias:0' shape=(1,) dtype=float32_ref>\", \"<tf.Variable 'dense_6/kernel:0' shape=(1, 1) dtype=float32_ref>\", \"<tf.Variable 'dense_6/bias:0' shape=(1,) dtype=float32_ref>\", \"<tf.Variable 'dense_7/kernel:0' shape=(4, 1) dtype=float32_ref>\", \"<tf.Variable 'dense_7/bias:0' shape=(1,) dtype=float32_ref>\", \"<tf.Variable 'dense_8/kernel:0' shape=(4, 2) dtype=float32_ref>\", \"<tf.Variable 'dense_8/bias:0' shape=(2,) dtype=float32_ref>\", \"<tf.Variable 'dense_9/kernel:0' shape=(4, 15) dtype=float32_ref>\", \"<tf.Variable 'dense_9/bias:0' shape=(15,) dtype=float32_ref>\", \"<tf.Variable 'dense_10/kernel:0' shape=(4, 1) dtype=float32_ref>\", \"<tf.Variable 'dense_10/bias:0' shape=(1,) dtype=float32_ref>\", \"<tf.Variable 'dense_11/kernel:0' shape=(4, 1) dtype=float32_ref>\", \"<tf.Variable 'dense_11/bias:0' shape=(1,) dtype=float32_ref>\", \"<tf.Variable 'dense_12/kernel:0' shape=(4, 1) dtype=float32_ref>\", \"<tf.Variable 'dense_12/bias:0' shape=(1,) dtype=float32_ref>\", \"<tf.Variable 'dense_13/kernel:0' shape=(4, 1) dtype=float32_ref>\", \"<tf.Variable 'dense_13/bias:0' shape=(1,) dtype=float32_ref>\", \"<tf.Variable 'dense_14/kernel:0' shape=(1, 1) dtype=float32_ref>\", \"<tf.Variable 'dense_14/bias:0' shape=(1,) dtype=float32_ref>\", \"<tf.Variable 'dense_15/kernel:0' shape=(1, 1) dtype=float32_ref>\", \"<tf.Variable 'dense_16/kernel:0' shape=(1, 2) dtype=float32_ref>\", \"<tf.Variable 'dense_17/kernel:0' shape=(1, 1) dtype=float32_ref>\", \"<tf.Variable 'dense_17/bias:0' shape=(1,) dtype=float32_ref>\", \"<tf.Variable 'dense_18/kernel:0' shape=(1, 1) dtype=float32_ref>\", \"<tf.Variable 'dense_18/bias:0' shape=(1,) dtype=float32_ref>\", \"<tf.Variable 'dense_19/kernel:0' shape=(1, 1) dtype=float32_ref>\", \"<tf.Variable 'dense_19/bias:0' shape=(1,) dtype=float32_ref>\", \"<tf.Variable 'dense_20/kernel:0' shape=(2, 1) dtype=float32_ref>\", \"<tf.Variable 'dense_20/bias:0' shape=(1,) dtype=float32_ref>\", \"<tf.Variable 'dense_21/kernel:0' shape=(4, 1) dtype=float32_ref>\", \"<tf.Variable 'dense_21/bias:0' shape=(1,) dtype=float32_ref>\", \"<tf.Variable 'dense_22/kernel:0' shape=(4, 1) dtype=float32_ref>\", \"<tf.Variable 'dense_22/bias:0' shape=(1,) dtype=float32_ref>\", \"<tf.Variable 'dense_23/kernel:0' shape=(4, 1) dtype=float32_ref>\", \"<tf.Variable 'dense_23/bias:0' shape=(1,) dtype=float32_ref>\", \"<tf.Variable 'dense_24/kernel:0' shape=(4, 1) dtype=float32_ref>\", \"<tf.Variable 'dense_24/bias:0' shape=(1,) dtype=float32_ref>\", \"<tf.Variable 'dense_25/kernel:0' shape=(4, 1) dtype=float32_ref>\", \"<tf.Variable 'dense_25/bias:0' shape=(1,) dtype=float32_ref>\", \"<tf.Variable 'dense_26/kernel:0' shape=(4, 1) dtype=int32_ref>\", \"<tf.Variable 'dense_26/bias:0' shape=(1,) dtype=int32_ref>\", \"<tf.Variable 'dense_27/kernel:0' shape=(4, 1) dtype=int32_ref>\", \"<tf.Variable 'dense_27/bias:0' shape=(1,) dtype=int32_ref>\", \"<tf.Variable 'dense_28/kernel:0' shape=(4, 1) dtype=int32_ref>\", \"<tf.Variable 'dense_28/bias:0' shape=(1,) dtype=int32_ref>\"] and loss Tensor(\"mean_squared_error_19/value:0\", shape=(), dtype=float32).",
     "output_type": "error",
     "traceback": [
      "\u001b[0;31m---------------------------------------------------------------------------\u001b[0m",
      "\u001b[0;31mValueError\u001b[0m                                Traceback (most recent call last)",
      "\u001b[0;32m<ipython-input-257-4603f62b452f>\u001b[0m in \u001b[0;36m<module>\u001b[0;34m()\u001b[0m\n\u001b[1;32m      1\u001b[0m \u001b[0moptimizer\u001b[0m \u001b[0;34m=\u001b[0m \u001b[0mtf\u001b[0m\u001b[0;34m.\u001b[0m\u001b[0mtrain\u001b[0m\u001b[0;34m.\u001b[0m\u001b[0mGradientDescentOptimizer\u001b[0m\u001b[0;34m(\u001b[0m\u001b[0;36m0.1\u001b[0m\u001b[0;34m)\u001b[0m\u001b[0;34m\u001b[0m\u001b[0m\n\u001b[0;32m----> 2\u001b[0;31m \u001b[0mtrain\u001b[0m \u001b[0;34m=\u001b[0m \u001b[0moptimizer\u001b[0m\u001b[0;34m.\u001b[0m\u001b[0mminimize\u001b[0m\u001b[0;34m(\u001b[0m\u001b[0mloss\u001b[0m\u001b[0;34m)\u001b[0m\u001b[0;34m\u001b[0m\u001b[0m\n\u001b[0m",
      "\u001b[0;32m~/jupyter/remote_jupyter/lib/python3.4/site-packages/tensorflow/python/training/optimizer.py\u001b[0m in \u001b[0;36mminimize\u001b[0;34m(self, loss, global_step, var_list, gate_gradients, aggregation_method, colocate_gradients_with_ops, name, grad_loss)\u001b[0m\n\u001b[1;32m    360\u001b[0m           \u001b[0;34m\"No gradients provided for any variable, check your graph for ops\"\u001b[0m\u001b[0;34m\u001b[0m\u001b[0m\n\u001b[1;32m    361\u001b[0m           \u001b[0;34m\" that do not support gradients, between variables %s and loss %s.\"\u001b[0m \u001b[0;34m%\u001b[0m\u001b[0;34m\u001b[0m\u001b[0m\n\u001b[0;32m--> 362\u001b[0;31m           ([str(v) for _, v in grads_and_vars], loss))\n\u001b[0m\u001b[1;32m    363\u001b[0m \u001b[0;34m\u001b[0m\u001b[0m\n\u001b[1;32m    364\u001b[0m     return self.apply_gradients(grads_and_vars, global_step=global_step,\n",
      "\u001b[0;31mValueError\u001b[0m: No gradients provided for any variable, check your graph for ops that do not support gradients, between variables [\"<tf.Variable 'dense/kernel:0' shape=(3, 1) dtype=float32_ref>\", \"<tf.Variable 'dense/bias:0' shape=(1,) dtype=float32_ref>\", \"<tf.Variable 'dense_1/kernel:0' shape=(4, 1) dtype=float32_ref>\", \"<tf.Variable 'dense_1/bias:0' shape=(1,) dtype=float32_ref>\", \"<tf.Variable 'dense_2/kernel:0' shape=(1, 1) dtype=float32_ref>\", \"<tf.Variable 'dense_2/bias:0' shape=(1,) dtype=float32_ref>\", \"<tf.Variable 'dense_3/kernel:0' shape=(1, 1) dtype=float32_ref>\", \"<tf.Variable 'dense_3/bias:0' shape=(1,) dtype=float32_ref>\", \"<tf.Variable 'dense_4/kernel:0' shape=(1, 1) dtype=float32_ref>\", \"<tf.Variable 'dense_4/bias:0' shape=(1,) dtype=float32_ref>\", \"<tf.Variable 'dense_5/kernel:0' shape=(4, 1) dtype=float32_ref>\", \"<tf.Variable 'dense_5/bias:0' shape=(1,) dtype=float32_ref>\", \"<tf.Variable 'dense_6/kernel:0' shape=(1, 1) dtype=float32_ref>\", \"<tf.Variable 'dense_6/bias:0' shape=(1,) dtype=float32_ref>\", \"<tf.Variable 'dense_7/kernel:0' shape=(4, 1) dtype=float32_ref>\", \"<tf.Variable 'dense_7/bias:0' shape=(1,) dtype=float32_ref>\", \"<tf.Variable 'dense_8/kernel:0' shape=(4, 2) dtype=float32_ref>\", \"<tf.Variable 'dense_8/bias:0' shape=(2,) dtype=float32_ref>\", \"<tf.Variable 'dense_9/kernel:0' shape=(4, 15) dtype=float32_ref>\", \"<tf.Variable 'dense_9/bias:0' shape=(15,) dtype=float32_ref>\", \"<tf.Variable 'dense_10/kernel:0' shape=(4, 1) dtype=float32_ref>\", \"<tf.Variable 'dense_10/bias:0' shape=(1,) dtype=float32_ref>\", \"<tf.Variable 'dense_11/kernel:0' shape=(4, 1) dtype=float32_ref>\", \"<tf.Variable 'dense_11/bias:0' shape=(1,) dtype=float32_ref>\", \"<tf.Variable 'dense_12/kernel:0' shape=(4, 1) dtype=float32_ref>\", \"<tf.Variable 'dense_12/bias:0' shape=(1,) dtype=float32_ref>\", \"<tf.Variable 'dense_13/kernel:0' shape=(4, 1) dtype=float32_ref>\", \"<tf.Variable 'dense_13/bias:0' shape=(1,) dtype=float32_ref>\", \"<tf.Variable 'dense_14/kernel:0' shape=(1, 1) dtype=float32_ref>\", \"<tf.Variable 'dense_14/bias:0' shape=(1,) dtype=float32_ref>\", \"<tf.Variable 'dense_15/kernel:0' shape=(1, 1) dtype=float32_ref>\", \"<tf.Variable 'dense_16/kernel:0' shape=(1, 2) dtype=float32_ref>\", \"<tf.Variable 'dense_17/kernel:0' shape=(1, 1) dtype=float32_ref>\", \"<tf.Variable 'dense_17/bias:0' shape=(1,) dtype=float32_ref>\", \"<tf.Variable 'dense_18/kernel:0' shape=(1, 1) dtype=float32_ref>\", \"<tf.Variable 'dense_18/bias:0' shape=(1,) dtype=float32_ref>\", \"<tf.Variable 'dense_19/kernel:0' shape=(1, 1) dtype=float32_ref>\", \"<tf.Variable 'dense_19/bias:0' shape=(1,) dtype=float32_ref>\", \"<tf.Variable 'dense_20/kernel:0' shape=(2, 1) dtype=float32_ref>\", \"<tf.Variable 'dense_20/bias:0' shape=(1,) dtype=float32_ref>\", \"<tf.Variable 'dense_21/kernel:0' shape=(4, 1) dtype=float32_ref>\", \"<tf.Variable 'dense_21/bias:0' shape=(1,) dtype=float32_ref>\", \"<tf.Variable 'dense_22/kernel:0' shape=(4, 1) dtype=float32_ref>\", \"<tf.Variable 'dense_22/bias:0' shape=(1,) dtype=float32_ref>\", \"<tf.Variable 'dense_23/kernel:0' shape=(4, 1) dtype=float32_ref>\", \"<tf.Variable 'dense_23/bias:0' shape=(1,) dtype=float32_ref>\", \"<tf.Variable 'dense_24/kernel:0' shape=(4, 1) dtype=float32_ref>\", \"<tf.Variable 'dense_24/bias:0' shape=(1,) dtype=float32_ref>\", \"<tf.Variable 'dense_25/kernel:0' shape=(4, 1) dtype=float32_ref>\", \"<tf.Variable 'dense_25/bias:0' shape=(1,) dtype=float32_ref>\", \"<tf.Variable 'dense_26/kernel:0' shape=(4, 1) dtype=int32_ref>\", \"<tf.Variable 'dense_26/bias:0' shape=(1,) dtype=int32_ref>\", \"<tf.Variable 'dense_27/kernel:0' shape=(4, 1) dtype=int32_ref>\", \"<tf.Variable 'dense_27/bias:0' shape=(1,) dtype=int32_ref>\", \"<tf.Variable 'dense_28/kernel:0' shape=(4, 1) dtype=int32_ref>\", \"<tf.Variable 'dense_28/bias:0' shape=(1,) dtype=int32_ref>\"] and loss Tensor(\"mean_squared_error_19/value:0\", shape=(), dtype=float32)."
     ]
    }
   ],
   "source": [
    "optimizer = tf.train.GradientDescentOptimizer(0.1)\n",
    "train = optimizer.minimize(loss)"
   ]
  },
  {
   "cell_type": "code",
   "execution_count": 243,
   "metadata": {
    "collapsed": true
   },
   "outputs": [
    {
     "ename": "InvalidArgumentError",
     "evalue": "You must feed a value for placeholder tensor 'Placeholder_16' with dtype float and shape [?,4]\n\t [[Node: Placeholder_16 = Placeholder[dtype=DT_FLOAT, shape=[?,4], _device=\"/job:localhost/replica:0/task:0/device:CPU:0\"]()]]\n\nCaused by op 'Placeholder_16', defined at:\n  File \"/usr/lib/python3.4/runpy.py\", line 170, in _run_module_as_main\n    \"__main__\", mod_spec)\n  File \"/usr/lib/python3.4/runpy.py\", line 85, in _run_code\n    exec(code, run_globals)\n  File \"/home/ubuntu/jupyter/remote_jupyter/lib/python3.4/site-packages/ipykernel_launcher.py\", line 16, in <module>\n    app.launch_new_instance()\n  File \"/home/ubuntu/jupyter/remote_jupyter/lib/python3.4/site-packages/traitlets/config/application.py\", line 658, in launch_instance\n    app.start()\n  File \"/home/ubuntu/jupyter/remote_jupyter/lib/python3.4/site-packages/ipykernel/kernelapp.py\", line 478, in start\n    self.io_loop.start()\n  File \"/home/ubuntu/jupyter/remote_jupyter/lib/python3.4/site-packages/zmq/eventloop/ioloop.py\", line 177, in start\n    super(ZMQIOLoop, self).start()\n  File \"/home/ubuntu/jupyter/remote_jupyter/lib/python3.4/site-packages/tornado/ioloop.py\", line 888, in start\n    handler_func(fd_obj, events)\n  File \"/home/ubuntu/jupyter/remote_jupyter/lib/python3.4/site-packages/tornado/stack_context.py\", line 277, in null_wrapper\n    return fn(*args, **kwargs)\n  File \"/home/ubuntu/jupyter/remote_jupyter/lib/python3.4/site-packages/zmq/eventloop/zmqstream.py\", line 440, in _handle_events\n    self._handle_recv()\n  File \"/home/ubuntu/jupyter/remote_jupyter/lib/python3.4/site-packages/zmq/eventloop/zmqstream.py\", line 472, in _handle_recv\n    self._run_callback(callback, msg)\n  File \"/home/ubuntu/jupyter/remote_jupyter/lib/python3.4/site-packages/zmq/eventloop/zmqstream.py\", line 414, in _run_callback\n    callback(*args, **kwargs)\n  File \"/home/ubuntu/jupyter/remote_jupyter/lib/python3.4/site-packages/tornado/stack_context.py\", line 277, in null_wrapper\n    return fn(*args, **kwargs)\n  File \"/home/ubuntu/jupyter/remote_jupyter/lib/python3.4/site-packages/ipykernel/kernelbase.py\", line 283, in dispatcher\n    return self.dispatch_shell(stream, msg)\n  File \"/home/ubuntu/jupyter/remote_jupyter/lib/python3.4/site-packages/ipykernel/kernelbase.py\", line 233, in dispatch_shell\n    handler(stream, idents, msg)\n  File \"/home/ubuntu/jupyter/remote_jupyter/lib/python3.4/site-packages/ipykernel/kernelbase.py\", line 399, in execute_request\n    user_expressions, allow_stdin)\n  File \"/home/ubuntu/jupyter/remote_jupyter/lib/python3.4/site-packages/ipykernel/ipkernel.py\", line 208, in do_execute\n    res = shell.run_cell(code, store_history=store_history, silent=silent)\n  File \"/home/ubuntu/jupyter/remote_jupyter/lib/python3.4/site-packages/ipykernel/zmqshell.py\", line 537, in run_cell\n    return super(ZMQInteractiveShell, self).run_cell(*args, **kwargs)\n  File \"/home/ubuntu/jupyter/remote_jupyter/lib/python3.4/site-packages/IPython/core/interactiveshell.py\", line 2728, in run_cell\n    interactivity=interactivity, compiler=compiler, result=result)\n  File \"/home/ubuntu/jupyter/remote_jupyter/lib/python3.4/site-packages/IPython/core/interactiveshell.py\", line 2850, in run_ast_nodes\n    if self.run_code(code, result):\n  File \"/home/ubuntu/jupyter/remote_jupyter/lib/python3.4/site-packages/IPython/core/interactiveshell.py\", line 2910, in run_code\n    exec(code_obj, self.user_global_ns, self.user_ns)\n  File \"<ipython-input-235-ffa589d790eb>\", line 1, in <module>\n    x = tf.placeholder(tf.float32, shape=[None, 4])\n  File \"/home/ubuntu/jupyter/remote_jupyter/lib/python3.4/site-packages/tensorflow/python/ops/array_ops.py\", line 1680, in placeholder\n    return gen_array_ops._placeholder(dtype=dtype, shape=shape, name=name)\n  File \"/home/ubuntu/jupyter/remote_jupyter/lib/python3.4/site-packages/tensorflow/python/ops/gen_array_ops.py\", line 3141, in _placeholder\n    \"Placeholder\", dtype=dtype, shape=shape, name=name)\n  File \"/home/ubuntu/jupyter/remote_jupyter/lib/python3.4/site-packages/tensorflow/python/framework/op_def_library.py\", line 787, in _apply_op_helper\n    op_def=op_def)\n  File \"/home/ubuntu/jupyter/remote_jupyter/lib/python3.4/site-packages/tensorflow/python/framework/ops.py\", line 3160, in create_op\n    op_def=op_def)\n  File \"/home/ubuntu/jupyter/remote_jupyter/lib/python3.4/site-packages/tensorflow/python/framework/ops.py\", line 1625, in __init__\n    self._traceback = self._graph._extract_stack()  # pylint: disable=protected-access\n\nInvalidArgumentError (see above for traceback): You must feed a value for placeholder tensor 'Placeholder_16' with dtype float and shape [?,4]\n\t [[Node: Placeholder_16 = Placeholder[dtype=DT_FLOAT, shape=[?,4], _device=\"/job:localhost/replica:0/task:0/device:CPU:0\"]()]]\n",
     "output_type": "error",
     "traceback": [
      "\u001b[0;31m---------------------------------------------------------------------------\u001b[0m",
      "\u001b[0;31mInvalidArgumentError\u001b[0m                      Traceback (most recent call last)",
      "\u001b[0;32m~/jupyter/remote_jupyter/lib/python3.4/site-packages/tensorflow/python/client/session.py\u001b[0m in \u001b[0;36m_do_call\u001b[0;34m(self, fn, *args)\u001b[0m\n\u001b[1;32m   1349\u001b[0m     \u001b[0;32mtry\u001b[0m\u001b[0;34m:\u001b[0m\u001b[0;34m\u001b[0m\u001b[0m\n\u001b[0;32m-> 1350\u001b[0;31m       \u001b[0;32mreturn\u001b[0m \u001b[0mfn\u001b[0m\u001b[0;34m(\u001b[0m\u001b[0;34m*\u001b[0m\u001b[0margs\u001b[0m\u001b[0;34m)\u001b[0m\u001b[0;34m\u001b[0m\u001b[0m\n\u001b[0m\u001b[1;32m   1351\u001b[0m     \u001b[0;32mexcept\u001b[0m \u001b[0merrors\u001b[0m\u001b[0;34m.\u001b[0m\u001b[0mOpError\u001b[0m \u001b[0;32mas\u001b[0m \u001b[0me\u001b[0m\u001b[0;34m:\u001b[0m\u001b[0;34m\u001b[0m\u001b[0m\n",
      "\u001b[0;32m~/jupyter/remote_jupyter/lib/python3.4/site-packages/tensorflow/python/client/session.py\u001b[0m in \u001b[0;36m_run_fn\u001b[0;34m(session, feed_dict, fetch_list, target_list, options, run_metadata)\u001b[0m\n\u001b[1;32m   1328\u001b[0m                                    \u001b[0mfeed_dict\u001b[0m\u001b[0;34m,\u001b[0m \u001b[0mfetch_list\u001b[0m\u001b[0;34m,\u001b[0m \u001b[0mtarget_list\u001b[0m\u001b[0;34m,\u001b[0m\u001b[0;34m\u001b[0m\u001b[0m\n\u001b[0;32m-> 1329\u001b[0;31m                                    status, run_metadata)\n\u001b[0m\u001b[1;32m   1330\u001b[0m \u001b[0;34m\u001b[0m\u001b[0m\n",
      "\u001b[0;32m~/jupyter/remote_jupyter/lib/python3.4/site-packages/tensorflow/python/framework/errors_impl.py\u001b[0m in \u001b[0;36m__exit__\u001b[0;34m(self, type_arg, value_arg, traceback_arg)\u001b[0m\n\u001b[1;32m    472\u001b[0m             \u001b[0mcompat\u001b[0m\u001b[0;34m.\u001b[0m\u001b[0mas_text\u001b[0m\u001b[0;34m(\u001b[0m\u001b[0mc_api\u001b[0m\u001b[0;34m.\u001b[0m\u001b[0mTF_Message\u001b[0m\u001b[0;34m(\u001b[0m\u001b[0mself\u001b[0m\u001b[0;34m.\u001b[0m\u001b[0mstatus\u001b[0m\u001b[0;34m.\u001b[0m\u001b[0mstatus\u001b[0m\u001b[0;34m)\u001b[0m\u001b[0;34m)\u001b[0m\u001b[0;34m,\u001b[0m\u001b[0;34m\u001b[0m\u001b[0m\n\u001b[0;32m--> 473\u001b[0;31m             c_api.TF_GetCode(self.status.status))\n\u001b[0m\u001b[1;32m    474\u001b[0m     \u001b[0;31m# Delete the underlying status object from memory otherwise it stays alive\u001b[0m\u001b[0;34m\u001b[0m\u001b[0;34m\u001b[0m\u001b[0m\n",
      "\u001b[0;31mInvalidArgumentError\u001b[0m: You must feed a value for placeholder tensor 'Placeholder_16' with dtype float and shape [?,4]\n\t [[Node: Placeholder_16 = Placeholder[dtype=DT_FLOAT, shape=[?,4], _device=\"/job:localhost/replica:0/task:0/device:CPU:0\"]()]]",
      "\nDuring handling of the above exception, another exception occurred:\n",
      "\u001b[0;31mInvalidArgumentError\u001b[0m                      Traceback (most recent call last)",
      "\u001b[0;32m<ipython-input-243-3bb18a0b227b>\u001b[0m in \u001b[0;36m<module>\u001b[0;34m()\u001b[0m\n\u001b[1;32m      1\u001b[0m \u001b[0;32mfor\u001b[0m \u001b[0mi\u001b[0m \u001b[0;32min\u001b[0m \u001b[0mrange\u001b[0m\u001b[0;34m(\u001b[0m\u001b[0;36m10000\u001b[0m\u001b[0;34m)\u001b[0m\u001b[0;34m:\u001b[0m\u001b[0;34m\u001b[0m\u001b[0m\n\u001b[0;32m----> 2\u001b[0;31m   \u001b[0m_\u001b[0m\u001b[0;34m,\u001b[0m \u001b[0mloss_value\u001b[0m \u001b[0;34m=\u001b[0m \u001b[0msess\u001b[0m\u001b[0;34m.\u001b[0m\u001b[0mrun\u001b[0m\u001b[0;34m(\u001b[0m\u001b[0;34m(\u001b[0m\u001b[0mtrain\u001b[0m\u001b[0;34m,\u001b[0m \u001b[0mloss\u001b[0m\u001b[0;34m)\u001b[0m\u001b[0;34m)\u001b[0m\u001b[0;34m\u001b[0m\u001b[0m\n\u001b[0m\u001b[1;32m      3\u001b[0m   \u001b[0mprint\u001b[0m\u001b[0;34m(\u001b[0m\u001b[0mloss_value\u001b[0m\u001b[0;34m)\u001b[0m\u001b[0;34m\u001b[0m\u001b[0m\n",
      "\u001b[0;32m~/jupyter/remote_jupyter/lib/python3.4/site-packages/tensorflow/python/client/session.py\u001b[0m in \u001b[0;36mrun\u001b[0;34m(self, fetches, feed_dict, options, run_metadata)\u001b[0m\n\u001b[1;32m    893\u001b[0m     \u001b[0;32mtry\u001b[0m\u001b[0;34m:\u001b[0m\u001b[0;34m\u001b[0m\u001b[0m\n\u001b[1;32m    894\u001b[0m       result = self._run(None, fetches, feed_dict, options_ptr,\n\u001b[0;32m--> 895\u001b[0;31m                          run_metadata_ptr)\n\u001b[0m\u001b[1;32m    896\u001b[0m       \u001b[0;32mif\u001b[0m \u001b[0mrun_metadata\u001b[0m\u001b[0;34m:\u001b[0m\u001b[0;34m\u001b[0m\u001b[0m\n\u001b[1;32m    897\u001b[0m         \u001b[0mproto_data\u001b[0m \u001b[0;34m=\u001b[0m \u001b[0mtf_session\u001b[0m\u001b[0;34m.\u001b[0m\u001b[0mTF_GetBuffer\u001b[0m\u001b[0;34m(\u001b[0m\u001b[0mrun_metadata_ptr\u001b[0m\u001b[0;34m)\u001b[0m\u001b[0;34m\u001b[0m\u001b[0m\n",
      "\u001b[0;32m~/jupyter/remote_jupyter/lib/python3.4/site-packages/tensorflow/python/client/session.py\u001b[0m in \u001b[0;36m_run\u001b[0;34m(self, handle, fetches, feed_dict, options, run_metadata)\u001b[0m\n\u001b[1;32m   1126\u001b[0m     \u001b[0;32mif\u001b[0m \u001b[0mfinal_fetches\u001b[0m \u001b[0;32mor\u001b[0m \u001b[0mfinal_targets\u001b[0m \u001b[0;32mor\u001b[0m \u001b[0;34m(\u001b[0m\u001b[0mhandle\u001b[0m \u001b[0;32mand\u001b[0m \u001b[0mfeed_dict_tensor\u001b[0m\u001b[0;34m)\u001b[0m\u001b[0;34m:\u001b[0m\u001b[0;34m\u001b[0m\u001b[0m\n\u001b[1;32m   1127\u001b[0m       results = self._do_run(handle, final_targets, final_fetches,\n\u001b[0;32m-> 1128\u001b[0;31m                              feed_dict_tensor, options, run_metadata)\n\u001b[0m\u001b[1;32m   1129\u001b[0m     \u001b[0;32melse\u001b[0m\u001b[0;34m:\u001b[0m\u001b[0;34m\u001b[0m\u001b[0m\n\u001b[1;32m   1130\u001b[0m       \u001b[0mresults\u001b[0m \u001b[0;34m=\u001b[0m \u001b[0;34m[\u001b[0m\u001b[0;34m]\u001b[0m\u001b[0;34m\u001b[0m\u001b[0m\n",
      "\u001b[0;32m~/jupyter/remote_jupyter/lib/python3.4/site-packages/tensorflow/python/client/session.py\u001b[0m in \u001b[0;36m_do_run\u001b[0;34m(self, handle, target_list, fetch_list, feed_dict, options, run_metadata)\u001b[0m\n\u001b[1;32m   1342\u001b[0m     \u001b[0;32mif\u001b[0m \u001b[0mhandle\u001b[0m \u001b[0;32mis\u001b[0m \u001b[0;32mNone\u001b[0m\u001b[0;34m:\u001b[0m\u001b[0;34m\u001b[0m\u001b[0m\n\u001b[1;32m   1343\u001b[0m       return self._do_call(_run_fn, self._session, feeds, fetches, targets,\n\u001b[0;32m-> 1344\u001b[0;31m                            options, run_metadata)\n\u001b[0m\u001b[1;32m   1345\u001b[0m     \u001b[0;32melse\u001b[0m\u001b[0;34m:\u001b[0m\u001b[0;34m\u001b[0m\u001b[0m\n\u001b[1;32m   1346\u001b[0m       \u001b[0;32mreturn\u001b[0m \u001b[0mself\u001b[0m\u001b[0;34m.\u001b[0m\u001b[0m_do_call\u001b[0m\u001b[0;34m(\u001b[0m\u001b[0m_prun_fn\u001b[0m\u001b[0;34m,\u001b[0m \u001b[0mself\u001b[0m\u001b[0;34m.\u001b[0m\u001b[0m_session\u001b[0m\u001b[0;34m,\u001b[0m \u001b[0mhandle\u001b[0m\u001b[0;34m,\u001b[0m \u001b[0mfeeds\u001b[0m\u001b[0;34m,\u001b[0m \u001b[0mfetches\u001b[0m\u001b[0;34m)\u001b[0m\u001b[0;34m\u001b[0m\u001b[0m\n",
      "\u001b[0;32m~/jupyter/remote_jupyter/lib/python3.4/site-packages/tensorflow/python/client/session.py\u001b[0m in \u001b[0;36m_do_call\u001b[0;34m(self, fn, *args)\u001b[0m\n\u001b[1;32m   1361\u001b[0m         \u001b[0;32mexcept\u001b[0m \u001b[0mKeyError\u001b[0m\u001b[0;34m:\u001b[0m\u001b[0;34m\u001b[0m\u001b[0m\n\u001b[1;32m   1362\u001b[0m           \u001b[0;32mpass\u001b[0m\u001b[0;34m\u001b[0m\u001b[0m\n\u001b[0;32m-> 1363\u001b[0;31m       \u001b[0;32mraise\u001b[0m \u001b[0mtype\u001b[0m\u001b[0;34m(\u001b[0m\u001b[0me\u001b[0m\u001b[0;34m)\u001b[0m\u001b[0;34m(\u001b[0m\u001b[0mnode_def\u001b[0m\u001b[0;34m,\u001b[0m \u001b[0mop\u001b[0m\u001b[0;34m,\u001b[0m \u001b[0mmessage\u001b[0m\u001b[0;34m)\u001b[0m\u001b[0;34m\u001b[0m\u001b[0m\n\u001b[0m\u001b[1;32m   1364\u001b[0m \u001b[0;34m\u001b[0m\u001b[0m\n\u001b[1;32m   1365\u001b[0m   \u001b[0;32mdef\u001b[0m \u001b[0m_extend_graph\u001b[0m\u001b[0;34m(\u001b[0m\u001b[0mself\u001b[0m\u001b[0;34m)\u001b[0m\u001b[0;34m:\u001b[0m\u001b[0;34m\u001b[0m\u001b[0m\n",
      "\u001b[0;31mInvalidArgumentError\u001b[0m: You must feed a value for placeholder tensor 'Placeholder_16' with dtype float and shape [?,4]\n\t [[Node: Placeholder_16 = Placeholder[dtype=DT_FLOAT, shape=[?,4], _device=\"/job:localhost/replica:0/task:0/device:CPU:0\"]()]]\n\nCaused by op 'Placeholder_16', defined at:\n  File \"/usr/lib/python3.4/runpy.py\", line 170, in _run_module_as_main\n    \"__main__\", mod_spec)\n  File \"/usr/lib/python3.4/runpy.py\", line 85, in _run_code\n    exec(code, run_globals)\n  File \"/home/ubuntu/jupyter/remote_jupyter/lib/python3.4/site-packages/ipykernel_launcher.py\", line 16, in <module>\n    app.launch_new_instance()\n  File \"/home/ubuntu/jupyter/remote_jupyter/lib/python3.4/site-packages/traitlets/config/application.py\", line 658, in launch_instance\n    app.start()\n  File \"/home/ubuntu/jupyter/remote_jupyter/lib/python3.4/site-packages/ipykernel/kernelapp.py\", line 478, in start\n    self.io_loop.start()\n  File \"/home/ubuntu/jupyter/remote_jupyter/lib/python3.4/site-packages/zmq/eventloop/ioloop.py\", line 177, in start\n    super(ZMQIOLoop, self).start()\n  File \"/home/ubuntu/jupyter/remote_jupyter/lib/python3.4/site-packages/tornado/ioloop.py\", line 888, in start\n    handler_func(fd_obj, events)\n  File \"/home/ubuntu/jupyter/remote_jupyter/lib/python3.4/site-packages/tornado/stack_context.py\", line 277, in null_wrapper\n    return fn(*args, **kwargs)\n  File \"/home/ubuntu/jupyter/remote_jupyter/lib/python3.4/site-packages/zmq/eventloop/zmqstream.py\", line 440, in _handle_events\n    self._handle_recv()\n  File \"/home/ubuntu/jupyter/remote_jupyter/lib/python3.4/site-packages/zmq/eventloop/zmqstream.py\", line 472, in _handle_recv\n    self._run_callback(callback, msg)\n  File \"/home/ubuntu/jupyter/remote_jupyter/lib/python3.4/site-packages/zmq/eventloop/zmqstream.py\", line 414, in _run_callback\n    callback(*args, **kwargs)\n  File \"/home/ubuntu/jupyter/remote_jupyter/lib/python3.4/site-packages/tornado/stack_context.py\", line 277, in null_wrapper\n    return fn(*args, **kwargs)\n  File \"/home/ubuntu/jupyter/remote_jupyter/lib/python3.4/site-packages/ipykernel/kernelbase.py\", line 283, in dispatcher\n    return self.dispatch_shell(stream, msg)\n  File \"/home/ubuntu/jupyter/remote_jupyter/lib/python3.4/site-packages/ipykernel/kernelbase.py\", line 233, in dispatch_shell\n    handler(stream, idents, msg)\n  File \"/home/ubuntu/jupyter/remote_jupyter/lib/python3.4/site-packages/ipykernel/kernelbase.py\", line 399, in execute_request\n    user_expressions, allow_stdin)\n  File \"/home/ubuntu/jupyter/remote_jupyter/lib/python3.4/site-packages/ipykernel/ipkernel.py\", line 208, in do_execute\n    res = shell.run_cell(code, store_history=store_history, silent=silent)\n  File \"/home/ubuntu/jupyter/remote_jupyter/lib/python3.4/site-packages/ipykernel/zmqshell.py\", line 537, in run_cell\n    return super(ZMQInteractiveShell, self).run_cell(*args, **kwargs)\n  File \"/home/ubuntu/jupyter/remote_jupyter/lib/python3.4/site-packages/IPython/core/interactiveshell.py\", line 2728, in run_cell\n    interactivity=interactivity, compiler=compiler, result=result)\n  File \"/home/ubuntu/jupyter/remote_jupyter/lib/python3.4/site-packages/IPython/core/interactiveshell.py\", line 2850, in run_ast_nodes\n    if self.run_code(code, result):\n  File \"/home/ubuntu/jupyter/remote_jupyter/lib/python3.4/site-packages/IPython/core/interactiveshell.py\", line 2910, in run_code\n    exec(code_obj, self.user_global_ns, self.user_ns)\n  File \"<ipython-input-235-ffa589d790eb>\", line 1, in <module>\n    x = tf.placeholder(tf.float32, shape=[None, 4])\n  File \"/home/ubuntu/jupyter/remote_jupyter/lib/python3.4/site-packages/tensorflow/python/ops/array_ops.py\", line 1680, in placeholder\n    return gen_array_ops._placeholder(dtype=dtype, shape=shape, name=name)\n  File \"/home/ubuntu/jupyter/remote_jupyter/lib/python3.4/site-packages/tensorflow/python/ops/gen_array_ops.py\", line 3141, in _placeholder\n    \"Placeholder\", dtype=dtype, shape=shape, name=name)\n  File \"/home/ubuntu/jupyter/remote_jupyter/lib/python3.4/site-packages/tensorflow/python/framework/op_def_library.py\", line 787, in _apply_op_helper\n    op_def=op_def)\n  File \"/home/ubuntu/jupyter/remote_jupyter/lib/python3.4/site-packages/tensorflow/python/framework/ops.py\", line 3160, in create_op\n    op_def=op_def)\n  File \"/home/ubuntu/jupyter/remote_jupyter/lib/python3.4/site-packages/tensorflow/python/framework/ops.py\", line 1625, in __init__\n    self._traceback = self._graph._extract_stack()  # pylint: disable=protected-access\n\nInvalidArgumentError (see above for traceback): You must feed a value for placeholder tensor 'Placeholder_16' with dtype float and shape [?,4]\n\t [[Node: Placeholder_16 = Placeholder[dtype=DT_FLOAT, shape=[?,4], _device=\"/job:localhost/replica:0/task:0/device:CPU:0\"]()]]\n"
     ]
    }
   ],
   "source": [
    "for i in range(10000):\n",
    "  _, loss_value = sess.run((train, loss))\n",
    "  print(loss_value)"
   ]
  },
  {
   "cell_type": "code",
   "execution_count": null,
   "metadata": {},
   "outputs": [],
   "source": []
  }
 ],
 "metadata": {
  "kernelspec": {
   "display_name": "Python 3",
   "language": "python",
   "name": "python3"
  }
 },
 "nbformat": 4,
 "nbformat_minor": 2
}
